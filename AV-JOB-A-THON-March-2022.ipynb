{
 "cells": [
  {
   "cell_type": "markdown",
   "id": "81daca32",
   "metadata": {},
   "source": [
    "# Import Libraries"
   ]
  },
  {
   "cell_type": "code",
   "execution_count": 1,
   "id": "40723202",
   "metadata": {},
   "outputs": [],
   "source": [
    "import numpy as np\n",
    "import pandas as pd\n",
    "import matplotlib.pyplot as plt\n",
    "\n",
    "from sklearn import model_selection\n",
    "from sklearn.metrics import f1_score\n",
    "\n",
    "import pickle"
   ]
  },
  {
   "cell_type": "markdown",
   "id": "089f3353",
   "metadata": {},
   "source": [
    "# Import Dataset"
   ]
  },
  {
   "cell_type": "code",
   "execution_count": 2,
   "id": "b172a1ba",
   "metadata": {},
   "outputs": [
    {
     "data": {
      "text/html": [
       "<div>\n",
       "<style scoped>\n",
       "    .dataframe tbody tr th:only-of-type {\n",
       "        vertical-align: middle;\n",
       "    }\n",
       "\n",
       "    .dataframe tbody tr th {\n",
       "        vertical-align: top;\n",
       "    }\n",
       "\n",
       "    .dataframe thead th {\n",
       "        text-align: right;\n",
       "    }\n",
       "</style>\n",
       "<table border=\"1\" class=\"dataframe\">\n",
       "  <thead>\n",
       "    <tr style=\"text-align: right;\">\n",
       "      <th></th>\n",
       "      <th>ID</th>\n",
       "      <th>Age</th>\n",
       "      <th>Gender</th>\n",
       "      <th>Income</th>\n",
       "      <th>Balance</th>\n",
       "      <th>Vintage</th>\n",
       "      <th>Transaction_Status</th>\n",
       "      <th>Product_Holdings</th>\n",
       "      <th>Credit_Card</th>\n",
       "      <th>Credit_Category</th>\n",
       "      <th>Is_Churn</th>\n",
       "    </tr>\n",
       "  </thead>\n",
       "  <tbody>\n",
       "    <tr>\n",
       "      <th>0</th>\n",
       "      <td>84e2fcc9</td>\n",
       "      <td>36</td>\n",
       "      <td>Female</td>\n",
       "      <td>5L - 10L</td>\n",
       "      <td>563266.44</td>\n",
       "      <td>4</td>\n",
       "      <td>0</td>\n",
       "      <td>1</td>\n",
       "      <td>0</td>\n",
       "      <td>Average</td>\n",
       "      <td>1</td>\n",
       "    </tr>\n",
       "    <tr>\n",
       "      <th>1</th>\n",
       "      <td>57fea15e</td>\n",
       "      <td>53</td>\n",
       "      <td>Female</td>\n",
       "      <td>Less than 5L</td>\n",
       "      <td>875572.11</td>\n",
       "      <td>2</td>\n",
       "      <td>1</td>\n",
       "      <td>1</td>\n",
       "      <td>1</td>\n",
       "      <td>Poor</td>\n",
       "      <td>0</td>\n",
       "    </tr>\n",
       "    <tr>\n",
       "      <th>2</th>\n",
       "      <td>8df34ef3</td>\n",
       "      <td>35</td>\n",
       "      <td>Female</td>\n",
       "      <td>More than 15L</td>\n",
       "      <td>701607.06</td>\n",
       "      <td>2</td>\n",
       "      <td>1</td>\n",
       "      <td>2</td>\n",
       "      <td>0</td>\n",
       "      <td>Poor</td>\n",
       "      <td>0</td>\n",
       "    </tr>\n",
       "    <tr>\n",
       "      <th>3</th>\n",
       "      <td>c5c0788b</td>\n",
       "      <td>43</td>\n",
       "      <td>Female</td>\n",
       "      <td>More than 15L</td>\n",
       "      <td>1393922.16</td>\n",
       "      <td>0</td>\n",
       "      <td>1</td>\n",
       "      <td>2</td>\n",
       "      <td>1</td>\n",
       "      <td>Poor</td>\n",
       "      <td>1</td>\n",
       "    </tr>\n",
       "    <tr>\n",
       "      <th>4</th>\n",
       "      <td>951d69c4</td>\n",
       "      <td>39</td>\n",
       "      <td>Female</td>\n",
       "      <td>More than 15L</td>\n",
       "      <td>893146.23</td>\n",
       "      <td>1</td>\n",
       "      <td>1</td>\n",
       "      <td>1</td>\n",
       "      <td>1</td>\n",
       "      <td>Good</td>\n",
       "      <td>1</td>\n",
       "    </tr>\n",
       "  </tbody>\n",
       "</table>\n",
       "</div>"
      ],
      "text/plain": [
       "         ID  Age  Gender         Income     Balance  Vintage  \\\n",
       "0  84e2fcc9   36  Female       5L - 10L   563266.44        4   \n",
       "1  57fea15e   53  Female   Less than 5L   875572.11        2   \n",
       "2  8df34ef3   35  Female  More than 15L   701607.06        2   \n",
       "3  c5c0788b   43  Female  More than 15L  1393922.16        0   \n",
       "4  951d69c4   39  Female  More than 15L   893146.23        1   \n",
       "\n",
       "   Transaction_Status Product_Holdings  Credit_Card Credit_Category  Is_Churn  \n",
       "0                   0                1            0         Average         1  \n",
       "1                   1                1            1            Poor         0  \n",
       "2                   1                2            0            Poor         0  \n",
       "3                   1                2            1            Poor         1  \n",
       "4                   1                1            1            Good         1  "
      ]
     },
     "execution_count": 2,
     "metadata": {},
     "output_type": "execute_result"
    }
   ],
   "source": [
    "data_train = pd.read_csv('train_PDjVQMB.csv')\n",
    "data_test = pd.read_csv('test_lTY72QC.csv')\n",
    "data_train.head()"
   ]
  },
  {
   "cell_type": "markdown",
   "id": "ae5c05ee",
   "metadata": {},
   "source": [
    "# Analyse Data"
   ]
  },
  {
   "cell_type": "code",
   "execution_count": 3,
   "id": "07b5d175",
   "metadata": {},
   "outputs": [
    {
     "data": {
      "text/plain": [
       "(6650, 11)"
      ]
     },
     "execution_count": 3,
     "metadata": {},
     "output_type": "execute_result"
    }
   ],
   "source": [
    "data_train.shape"
   ]
  },
  {
   "cell_type": "code",
   "execution_count": 4,
   "id": "8f66333d",
   "metadata": {},
   "outputs": [
    {
     "data": {
      "text/plain": [
       "ID                    0\n",
       "Age                   0\n",
       "Gender                0\n",
       "Income                0\n",
       "Balance               0\n",
       "Vintage               0\n",
       "Transaction_Status    0\n",
       "Product_Holdings      0\n",
       "Credit_Card           0\n",
       "Credit_Category       0\n",
       "Is_Churn              0\n",
       "dtype: int64"
      ]
     },
     "execution_count": 4,
     "metadata": {},
     "output_type": "execute_result"
    }
   ],
   "source": [
    "# checking for null values\n",
    "data_train.isnull().sum()\n",
    "# Observation - \n",
    "# No Null Values"
   ]
  },
  {
   "cell_type": "code",
   "execution_count": 5,
   "id": "2f62f29e",
   "metadata": {},
   "outputs": [
    {
     "data": {
      "text/plain": [
       "['ID - 6650',\n",
       " 'Age - 52',\n",
       " 'Gender - 2',\n",
       " 'Income - 4',\n",
       " 'Balance - 6643',\n",
       " 'Vintage - 6',\n",
       " 'Transaction_Status - 2',\n",
       " 'Product_Holdings - 3',\n",
       " 'Credit_Card - 2',\n",
       " 'Credit_Category - 3',\n",
       " 'Is_Churn - 2']"
      ]
     },
     "execution_count": 5,
     "metadata": {},
     "output_type": "execute_result"
    }
   ],
   "source": [
    "# All features value counts \n",
    "\n",
    "features = ['ID', 'Age', 'Gender', 'Income', 'Balance', 'Vintage', 'Transaction_Status', 'Product_Holdings', \n",
    "            'Credit_Card', 'Credit_Category', 'Is_Churn' ]\n",
    "\n",
    "[str(f) + ' - ' + str(data_train[f].nunique()) for f in features]\n"
   ]
  },
  {
   "cell_type": "markdown",
   "id": "d9148625",
   "metadata": {},
   "source": [
    "# STEP 1 : Check correlation between features"
   ]
  },
  {
   "cell_type": "code",
   "execution_count": 6,
   "id": "7d5ae195",
   "metadata": {},
   "outputs": [
    {
     "data": {
      "text/plain": [
       "39    306\n",
       "38    284\n",
       "36    282\n",
       "40    277\n",
       "35    271\n",
       "33    267\n",
       "34    256\n",
       "41    256\n",
       "37    248\n",
       "42    233\n",
       "32    226\n",
       "43    224\n",
       "45    218\n",
       "31    217\n",
       "44    213\n",
       "30    198\n",
       "46    193\n",
       "47    189\n",
       "29    179\n",
       "28    150\n",
       "49    149\n",
       "48    149\n",
       "50    147\n",
       "51    135\n",
       "52    132\n",
       "27    128\n",
       "53    111\n",
       "26    101\n",
       "55     97\n",
       "54     94\n",
       "56     88\n",
       "57     73\n",
       "60     62\n",
       "59     58\n",
       "58     55\n",
       "25     49\n",
       "62     40\n",
       "63     35\n",
       "65     35\n",
       "64     34\n",
       "24     33\n",
       "61     32\n",
       "66     30\n",
       "23     25\n",
       "68     16\n",
       "67     15\n",
       "22     12\n",
       "71     10\n",
       "69      9\n",
       "70      4\n",
       "72      3\n",
       "21      2\n",
       "Name: Age, dtype: int64"
      ]
     },
     "execution_count": 6,
     "metadata": {},
     "output_type": "execute_result"
    }
   ],
   "source": [
    "#1. Age\n",
    "data_train['Age'].value_counts()"
   ]
  },
  {
   "cell_type": "code",
   "execution_count": 7,
   "id": "e1833150",
   "metadata": {},
   "outputs": [
    {
     "data": {
      "image/png": "[encoded data removed]",
      "text/plain": [
       "<Figure size 432x288 with 1 Axes>"
      ]
     },
     "metadata": {
      "needs_background": "light"
     },
     "output_type": "display_data"
    }
   ],
   "source": [
    "#1. Age\n",
    "plt.hist(x = data_train.Age, bins = 50)\n",
    "plt.title('comparison of Age')\n",
    "plt.xlabel('Age')\n",
    "plt.ylabel('Customer')\n",
    "plt.show()\n",
    "\n",
    "#Observation\n",
    "#Numerical - Left Skewed"
   ]
  },
  {
   "cell_type": "code",
   "execution_count": 8,
   "id": "1e1d467b",
   "metadata": {},
   "outputs": [
    {
     "data": {
      "text/plain": [
       "Male      3612\n",
       "Female    3038\n",
       "Name: Gender, dtype: int64"
      ]
     },
     "execution_count": 8,
     "metadata": {},
     "output_type": "execute_result"
    }
   ],
   "source": [
    "#2. Gender\n",
    "data_train['Gender'].value_counts()"
   ]
  },
  {
   "cell_type": "code",
   "execution_count": 9,
   "id": "1b7f583c",
   "metadata": {},
   "outputs": [
    {
     "data": {
      "image/png": "[encoded data removed]",
      "text/plain": [
       "<Figure size 432x288 with 1 Axes>"
      ]
     },
     "metadata": {
      "needs_background": "light"
     },
     "output_type": "display_data"
    }
   ],
   "source": [
    "\n",
    "plt.hist(x = data_train.Gender, bins = 3)\n",
    "plt.title('comparison of male and female')\n",
    "plt.xlabel('Gender')\n",
    "plt.ylabel('Customer')\n",
    "plt.show()\n",
    "\n",
    "#Observation\n",
    "#Categorical \n",
    "#No major bias"
   ]
  },
  {
   "cell_type": "code",
   "execution_count": 10,
   "id": "988f7a47",
   "metadata": {},
   "outputs": [
    {
     "data": {
      "text/plain": [
       "10L - 15L        1885\n",
       "5L - 10L         1847\n",
       "Less than 5L     1573\n",
       "More than 15L    1345\n",
       "Name: Income, dtype: int64"
      ]
     },
     "execution_count": 10,
     "metadata": {},
     "output_type": "execute_result"
    }
   ],
   "source": [
    "#3.Income\n",
    "data_train['Income'].value_counts()"
   ]
  },
  {
   "cell_type": "code",
   "execution_count": 11,
   "id": "a3aafdf1",
   "metadata": {},
   "outputs": [
    {
     "data": {
      "image/png": "[encoded data removed]",
      "text/plain": [
       "<Figure size 432x288 with 1 Axes>"
      ]
     },
     "metadata": {
      "needs_background": "light"
     },
     "output_type": "display_data"
    }
   ],
   "source": [
    "\n",
    "plt.hist(x = data_train.Income, bins = 4)\n",
    "plt.title('comparison of Income')\n",
    "plt.xlabel('Yearly Income')\n",
    "plt.ylabel('customers')\n",
    "plt.show()\n",
    "\n",
    "#Observation\n",
    "#Categorical \n",
    "#No major bias"
   ]
  },
  {
   "cell_type": "code",
   "execution_count": 12,
   "id": "a5263619",
   "metadata": {},
   "outputs": [
    {
     "data": {
      "text/plain": [
       "117549.00     2\n",
       "76122.00      2\n",
       "131121.00     2\n",
       "102123.00     2\n",
       "138825.00     2\n",
       "             ..\n",
       "289348.92     1\n",
       "1031298.48    1\n",
       "242901.27     1\n",
       "719339.85     1\n",
       "826947.27     1\n",
       "Name: Balance, Length: 6643, dtype: int64"
      ]
     },
     "execution_count": 12,
     "metadata": {},
     "output_type": "execute_result"
    }
   ],
   "source": [
    "#4.Balance\n",
    "data_train['Balance'].value_counts()\n",
    "\n",
    "#Observation\n",
    "#Ignore Feature"
   ]
  },
  {
   "cell_type": "code",
   "execution_count": 13,
   "id": "69be1330",
   "metadata": {},
   "outputs": [
    {
     "data": {
      "image/png": "[encoded data removed]",
      "text/plain": [
       "<Figure size 432x288 with 1 Axes>"
      ]
     },
     "metadata": {
      "needs_background": "light"
     },
     "output_type": "display_data"
    }
   ],
   "source": [
    "plt.hist(x = data_train.Balance, bins = 100)\n",
    "plt.title('comparison of Balance')\n",
    "plt.xlabel('Average quarterly balance ')\n",
    "plt.ylabel('customers')\n",
    "plt.show()\n",
    "\n",
    "#Observation\n",
    "#Categorical \n",
    "#Lekt Skewed distribution\n",
    "#Ingnore Feature - 99.9# Unique values"
   ]
  },
  {
   "cell_type": "code",
   "execution_count": 14,
   "id": "8af8c3f9",
   "metadata": {},
   "outputs": [
    {
     "data": {
      "text/plain": [
       "3    1405\n",
       "1    1354\n",
       "2    1328\n",
       "4    1296\n",
       "0     956\n",
       "5     311\n",
       "Name: Vintage, dtype: int64"
      ]
     },
     "execution_count": 14,
     "metadata": {},
     "output_type": "execute_result"
    }
   ],
   "source": [
    "#5.Vintage\n",
    "data_train['Vintage'].value_counts()"
   ]
  },
  {
   "cell_type": "code",
   "execution_count": 15,
   "id": "dbeed597",
   "metadata": {},
   "outputs": [
    {
     "data": {
      "image/png": "[encoded data removed]",
      "text/plain": [
       "<Figure size 432x288 with 1 Axes>"
      ]
     },
     "metadata": {
      "needs_background": "light"
     },
     "output_type": "display_data"
    }
   ],
   "source": [
    "plt.hist(x = data_train.Vintage, bins = 15)\n",
    "plt.title('comparison of Vintage')\n",
    "plt.xlabel('No. of Years')\n",
    "plt.ylabel('Customers')\n",
    "plt.show()\n",
    "\n",
    "#Observation\n",
    "#Categorical \n",
    "#No major bias"
   ]
  },
  {
   "cell_type": "code",
   "execution_count": 16,
   "id": "62d2e74b",
   "metadata": {},
   "outputs": [
    {
     "data": {
      "text/plain": [
       "1    3430\n",
       "0    3220\n",
       "Name: Transaction_Status, dtype: int64"
      ]
     },
     "execution_count": 16,
     "metadata": {},
     "output_type": "execute_result"
    }
   ],
   "source": [
    "#6. Transaction_Status\n",
    "data_train['Transaction_Status'].value_counts()"
   ]
  },
  {
   "cell_type": "code",
   "execution_count": 17,
   "id": "89b5f5f8",
   "metadata": {},
   "outputs": [
    {
     "data": {
      "text/plain": [
       "Text(0, 0.5, 'Customer')"
      ]
     },
     "execution_count": 17,
     "metadata": {},
     "output_type": "execute_result"
    },
    {
     "data": {
      "image/png": "[encoded data removed]",
      "text/plain": [
       "<Figure size 432x288 with 1 Axes>"
      ]
     },
     "metadata": {
      "needs_background": "light"
     },
     "output_type": "display_data"
    }
   ],
   "source": [
    "plt.hist(x = data_train.Transaction_Status, bins = 3)\n",
    "plt.title('Customer transaction in the past 3 months')\n",
    "plt.xlabel('Yes / No')\n",
    "plt.ylabel('Customer')\n",
    "#Observation\n",
    "#Categorical\n",
    "#No major bias"
   ]
  },
  {
   "cell_type": "code",
   "execution_count": 18,
   "id": "c5d8a2ec",
   "metadata": {},
   "outputs": [
    {
     "data": {
      "text/plain": [
       "1     3200\n",
       "2     3182\n",
       "3+     268\n",
       "Name: Product_Holdings, dtype: int64"
      ]
     },
     "execution_count": 18,
     "metadata": {},
     "output_type": "execute_result"
    }
   ],
   "source": [
    "#7. Product Holdings\n",
    "data_train['Product_Holdings'].value_counts()"
   ]
  },
  {
   "cell_type": "code",
   "execution_count": 19,
   "id": "dc142676",
   "metadata": {},
   "outputs": [
    {
     "data": {
      "text/plain": [
       "Text(0, 0.5, 'Customers')"
      ]
     },
     "execution_count": 19,
     "metadata": {},
     "output_type": "execute_result"
    },
    {
     "data": {
      "image/png": "[encoded data removed]",
      "text/plain": [
       "<Figure size 432x288 with 1 Axes>"
      ]
     },
     "metadata": {
      "needs_background": "light"
     },
     "output_type": "display_data"
    }
   ],
   "source": [
    "plt.hist(x = data_train.Product_Holdings, bins=6)\n",
    "plt.title('No. of product holdings with the bank')\n",
    "plt.xlabel('Products')\n",
    "plt.ylabel('Customers')\n",
    "\n",
    "#Observation\n",
    "#Categorical\n",
    "#High Cardinality @ +3"
   ]
  },
  {
   "cell_type": "code",
   "execution_count": 20,
   "id": "aeeaae52",
   "metadata": {},
   "outputs": [
    {
     "data": {
      "text/plain": [
       "1    4418\n",
       "0    2232\n",
       "Name: Credit_Card, dtype: int64"
      ]
     },
     "execution_count": 20,
     "metadata": {},
     "output_type": "execute_result"
    }
   ],
   "source": [
    "#8. Credit_Card\n",
    "data_train['Credit_Card'].value_counts()"
   ]
  },
  {
   "cell_type": "code",
   "execution_count": 21,
   "id": "fb2e51e1",
   "metadata": {},
   "outputs": [
    {
     "data": {
      "text/plain": [
       "Text(0, 0.5, 'Customers')"
      ]
     },
     "execution_count": 21,
     "metadata": {},
     "output_type": "execute_result"
    },
    {
     "data": {
      "image/png": "[encoded data removed]",
      "text/plain": [
       "<Figure size 432x288 with 1 Axes>"
      ]
     },
     "metadata": {
      "needs_background": "light"
     },
     "output_type": "display_data"
    }
   ],
   "source": [
    "plt.hist(x = data_train.Credit_Card, bins=3)\n",
    "plt.title('Customer has a credit card or not')\n",
    "plt.xlabel('Products')\n",
    "plt.ylabel('Customers')\n",
    "#Observation\n",
    "#Categorical\n",
    "#50% difference "
   ]
  },
  {
   "cell_type": "code",
   "execution_count": 22,
   "id": "65f097c0",
   "metadata": {},
   "outputs": [
    {
     "data": {
      "text/plain": [
       "Poor       3076\n",
       "Average    2043\n",
       "Good       1531\n",
       "Name: Credit_Category, dtype: int64"
      ]
     },
     "execution_count": 22,
     "metadata": {},
     "output_type": "execute_result"
    }
   ],
   "source": [
    "#9.Credit_Category\n",
    "data_train['Credit_Category'].value_counts()"
   ]
  },
  {
   "cell_type": "code",
   "execution_count": 23,
   "id": "8b817b3d",
   "metadata": {},
   "outputs": [
    {
     "data": {
      "text/plain": [
       "Text(0, 0.5, 'Customers')"
      ]
     },
     "execution_count": 23,
     "metadata": {},
     "output_type": "execute_result"
    },
    {
     "data": {
      "image/png": "[encoded data removed]",
      "text/plain": [
       "<Figure size 432x288 with 1 Axes>"
      ]
     },
     "metadata": {
      "needs_background": "light"
     },
     "output_type": "display_data"
    }
   ],
   "source": [
    "plt.hist(x = data_train.Credit_Category, bins=5)\n",
    "plt.title('Category of a customer based on the credit score')\n",
    "plt.xlabel('Category')\n",
    "plt.ylabel('Customers')\n",
    "\n",
    "#Observation\n",
    "#Categorical\n",
    "#No major bias"
   ]
  },
  {
   "cell_type": "code",
   "execution_count": 24,
   "id": "2364ec7e",
   "metadata": {},
   "outputs": [
    {
     "data": {
      "text/plain": [
       "Index(['ID', 'Age', 'Gender', 'Income', 'Balance', 'Vintage',\n",
       "       'Transaction_Status', 'Product_Holdings', 'Credit_Card',\n",
       "       'Credit_Category', 'Is_Churn'],\n",
       "      dtype='object')"
      ]
     },
     "execution_count": 24,
     "metadata": {},
     "output_type": "execute_result"
    }
   ],
   "source": [
    "data_train.columns"
   ]
  },
  {
   "cell_type": "markdown",
   "id": "7141dac4",
   "metadata": {},
   "source": [
    "# STEP 2 : Data Cleaning and Preparation\n",
    "# 2.1. Removing unnecesarry features"
   ]
  },
  {
   "cell_type": "code",
   "execution_count": 25,
   "id": "9c5edbdb",
   "metadata": {},
   "outputs": [],
   "source": [
    "# Removing the ID and Blalance features from the dataset\n",
    "data_train = data_train.drop(['ID', 'Balance'], axis=1)\n",
    "data_test = data_test.drop(['ID', 'Balance'], axis=1)"
   ]
  },
  {
   "cell_type": "code",
   "execution_count": 26,
   "id": "deb7cd29",
   "metadata": {},
   "outputs": [
    {
     "data": {
      "text/html": [
       "<div>\n",
       "<style scoped>\n",
       "    .dataframe tbody tr th:only-of-type {\n",
       "        vertical-align: middle;\n",
       "    }\n",
       "\n",
       "    .dataframe tbody tr th {\n",
       "        vertical-align: top;\n",
       "    }\n",
       "\n",
       "    .dataframe thead th {\n",
       "        text-align: right;\n",
       "    }\n",
       "</style>\n",
       "<table border=\"1\" class=\"dataframe\">\n",
       "  <thead>\n",
       "    <tr style=\"text-align: right;\">\n",
       "      <th></th>\n",
       "      <th>Age</th>\n",
       "      <th>Gender</th>\n",
       "      <th>Income</th>\n",
       "      <th>Vintage</th>\n",
       "      <th>Transaction_Status</th>\n",
       "      <th>Product_Holdings</th>\n",
       "      <th>Credit_Card</th>\n",
       "      <th>Credit_Category</th>\n",
       "      <th>Is_Churn</th>\n",
       "    </tr>\n",
       "  </thead>\n",
       "  <tbody>\n",
       "    <tr>\n",
       "      <th>0</th>\n",
       "      <td>36</td>\n",
       "      <td>Female</td>\n",
       "      <td>5L - 10L</td>\n",
       "      <td>4</td>\n",
       "      <td>0</td>\n",
       "      <td>1</td>\n",
       "      <td>0</td>\n",
       "      <td>Average</td>\n",
       "      <td>1</td>\n",
       "    </tr>\n",
       "    <tr>\n",
       "      <th>1</th>\n",
       "      <td>53</td>\n",
       "      <td>Female</td>\n",
       "      <td>Less than 5L</td>\n",
       "      <td>2</td>\n",
       "      <td>1</td>\n",
       "      <td>1</td>\n",
       "      <td>1</td>\n",
       "      <td>Poor</td>\n",
       "      <td>0</td>\n",
       "    </tr>\n",
       "    <tr>\n",
       "      <th>2</th>\n",
       "      <td>35</td>\n",
       "      <td>Female</td>\n",
       "      <td>More than 15L</td>\n",
       "      <td>2</td>\n",
       "      <td>1</td>\n",
       "      <td>2</td>\n",
       "      <td>0</td>\n",
       "      <td>Poor</td>\n",
       "      <td>0</td>\n",
       "    </tr>\n",
       "    <tr>\n",
       "      <th>3</th>\n",
       "      <td>43</td>\n",
       "      <td>Female</td>\n",
       "      <td>More than 15L</td>\n",
       "      <td>0</td>\n",
       "      <td>1</td>\n",
       "      <td>2</td>\n",
       "      <td>1</td>\n",
       "      <td>Poor</td>\n",
       "      <td>1</td>\n",
       "    </tr>\n",
       "    <tr>\n",
       "      <th>4</th>\n",
       "      <td>39</td>\n",
       "      <td>Female</td>\n",
       "      <td>More than 15L</td>\n",
       "      <td>1</td>\n",
       "      <td>1</td>\n",
       "      <td>1</td>\n",
       "      <td>1</td>\n",
       "      <td>Good</td>\n",
       "      <td>1</td>\n",
       "    </tr>\n",
       "  </tbody>\n",
       "</table>\n",
       "</div>"
      ],
      "text/plain": [
       "   Age  Gender         Income  Vintage  Transaction_Status Product_Holdings  \\\n",
       "0   36  Female       5L - 10L        4                   0                1   \n",
       "1   53  Female   Less than 5L        2                   1                1   \n",
       "2   35  Female  More than 15L        2                   1                2   \n",
       "3   43  Female  More than 15L        0                   1                2   \n",
       "4   39  Female  More than 15L        1                   1                1   \n",
       "\n",
       "   Credit_Card Credit_Category  Is_Churn  \n",
       "0            0         Average         1  \n",
       "1            1            Poor         0  \n",
       "2            0            Poor         0  \n",
       "3            1            Poor         1  \n",
       "4            1            Good         1  "
      ]
     },
     "execution_count": 26,
     "metadata": {},
     "output_type": "execute_result"
    }
   ],
   "source": [
    "data_train.head()"
   ]
  },
  {
   "cell_type": "markdown",
   "id": "bf7f5dea",
   "metadata": {},
   "source": [
    "# 2.2. Encoding Categorical Features into numerical variables using label encoder\n",
    "\n",
    "Note: Gender, Income, Credit_Category, Product_Holding are encoded."
   ]
  },
  {
   "cell_type": "code",
   "execution_count": 27,
   "id": "e083f0c9",
   "metadata": {},
   "outputs": [],
   "source": [
    "# Importing LabelEncoder from Sklearn\n",
    "# Transforming Gender column values using label Encoder\n",
    "from sklearn.preprocessing import LabelEncoder\n",
    "label_encoder_Gender = LabelEncoder()"
   ]
  },
  {
   "cell_type": "code",
   "execution_count": 28,
   "id": "927ad30b",
   "metadata": {},
   "outputs": [
    {
     "data": {
      "text/html": [
       "<div>\n",
       "<style scoped>\n",
       "    .dataframe tbody tr th:only-of-type {\n",
       "        vertical-align: middle;\n",
       "    }\n",
       "\n",
       "    .dataframe tbody tr th {\n",
       "        vertical-align: top;\n",
       "    }\n",
       "\n",
       "    .dataframe thead th {\n",
       "        text-align: right;\n",
       "    }\n",
       "</style>\n",
       "<table border=\"1\" class=\"dataframe\">\n",
       "  <thead>\n",
       "    <tr style=\"text-align: right;\">\n",
       "      <th></th>\n",
       "      <th>Gender</th>\n",
       "    </tr>\n",
       "  </thead>\n",
       "  <tbody>\n",
       "    <tr>\n",
       "      <th>0</th>\n",
       "      <td>Female</td>\n",
       "    </tr>\n",
       "    <tr>\n",
       "      <th>1</th>\n",
       "      <td>Female</td>\n",
       "    </tr>\n",
       "    <tr>\n",
       "      <th>2</th>\n",
       "      <td>Female</td>\n",
       "    </tr>\n",
       "    <tr>\n",
       "      <th>3</th>\n",
       "      <td>Female</td>\n",
       "    </tr>\n",
       "    <tr>\n",
       "      <th>4</th>\n",
       "      <td>Female</td>\n",
       "    </tr>\n",
       "    <tr>\n",
       "      <th>...</th>\n",
       "      <td>...</td>\n",
       "    </tr>\n",
       "    <tr>\n",
       "      <th>6645</th>\n",
       "      <td>Male</td>\n",
       "    </tr>\n",
       "    <tr>\n",
       "      <th>6646</th>\n",
       "      <td>Female</td>\n",
       "    </tr>\n",
       "    <tr>\n",
       "      <th>6647</th>\n",
       "      <td>Male</td>\n",
       "    </tr>\n",
       "    <tr>\n",
       "      <th>6648</th>\n",
       "      <td>Female</td>\n",
       "    </tr>\n",
       "    <tr>\n",
       "      <th>6649</th>\n",
       "      <td>Male</td>\n",
       "    </tr>\n",
       "  </tbody>\n",
       "</table>\n",
       "<p>6650 rows × 1 columns</p>\n",
       "</div>"
      ],
      "text/plain": [
       "      Gender\n",
       "0     Female\n",
       "1     Female\n",
       "2     Female\n",
       "3     Female\n",
       "4     Female\n",
       "...      ...\n",
       "6645    Male\n",
       "6646  Female\n",
       "6647    Male\n",
       "6648  Female\n",
       "6649    Male\n",
       "\n",
       "[6650 rows x 1 columns]"
      ]
     },
     "execution_count": 28,
     "metadata": {},
     "output_type": "execute_result"
    }
   ],
   "source": [
    "# Get the location of Gender in data_train or data_test\n",
    "data_train.iloc[:,1:2]"
   ]
  },
  {
   "cell_type": "code",
   "execution_count": 29,
   "id": "cea19c84",
   "metadata": {},
   "outputs": [
    {
     "name": "stderr",
     "output_type": "stream",
     "text": [
      "/Users/deepthi/opt/anaconda3/lib/python3.9/site-packages/sklearn/preprocessing/_label.py:115: DataConversionWarning: A column-vector y was passed when a 1d array was expected. Please change the shape of y to (n_samples, ), for example using ravel().\n",
      "  y = column_or_1d(y, warn=True)\n"
     ]
    }
   ],
   "source": [
    "#Apply transformation to Gender field\n",
    "data_train.iloc[:,1:2]  = label_encoder_Gender.fit_transform(data_train.iloc[:,1:2])\n",
    "data_test.iloc[:,1:2]  = label_encoder_Gender.fit_transform(data_test.iloc[:,1:2])\n"
   ]
  },
  {
   "cell_type": "code",
   "execution_count": 30,
   "id": "d9d3a79a",
   "metadata": {},
   "outputs": [
    {
     "data": {
      "text/plain": [
       "(1    3612\n",
       " 0    3038\n",
       " Name: Gender, dtype: int64,\n",
       " 1    1545\n",
       " 0    1306\n",
       " Name: Gender, dtype: int64)"
      ]
     },
     "execution_count": 30,
     "metadata": {},
     "output_type": "execute_result"
    }
   ],
   "source": [
    "# Check the transformation\n",
    "data_train['Gender'].value_counts(), data_test['Gender'].value_counts()"
   ]
  },
  {
   "cell_type": "code",
   "execution_count": 31,
   "id": "809f1c58",
   "metadata": {},
   "outputs": [],
   "source": [
    "# Transforming Income column values using label Encoder\n",
    "label_encoder_Income = LabelEncoder()"
   ]
  },
  {
   "cell_type": "code",
   "execution_count": 32,
   "id": "df8d3330",
   "metadata": {},
   "outputs": [
    {
     "data": {
      "text/plain": [
       "10L - 15L        1885\n",
       "5L - 10L         1847\n",
       "Less than 5L     1573\n",
       "More than 15L    1345\n",
       "Name: Income, dtype: int64"
      ]
     },
     "execution_count": 32,
     "metadata": {},
     "output_type": "execute_result"
    }
   ],
   "source": [
    "#data_train.iloc[:,2:3]\n",
    "data_train['Income'].value_counts()"
   ]
  },
  {
   "cell_type": "code",
   "execution_count": 33,
   "id": "46288f7b",
   "metadata": {},
   "outputs": [],
   "source": [
    "data_train.iloc[:,2:3]  = label_encoder_Income.fit_transform(data_train.iloc[:,2:3])\n",
    "data_test.iloc[:,2:3]  = label_encoder_Income.fit_transform(data_test.iloc[:,2:3])\n"
   ]
  },
  {
   "cell_type": "code",
   "execution_count": 34,
   "id": "7139f963",
   "metadata": {},
   "outputs": [
    {
     "data": {
      "text/plain": [
       "(0    1885\n",
       " 1    1847\n",
       " 2    1573\n",
       " 3    1345\n",
       " Name: Income, dtype: int64,\n",
       " 0    844\n",
       " 1    794\n",
       " 2    648\n",
       " 3    565\n",
       " Name: Income, dtype: int64)"
      ]
     },
     "execution_count": 34,
     "metadata": {},
     "output_type": "execute_result"
    }
   ],
   "source": [
    "# Check the transformation\n",
    "data_train['Income'].value_counts(),data_test['Income'].value_counts()"
   ]
  },
  {
   "cell_type": "code",
   "execution_count": 35,
   "id": "c0479a8a",
   "metadata": {},
   "outputs": [],
   "source": [
    "# Transforming Credit_Category column values using label Encoder\n",
    "label_encoder_Credit_Category = LabelEncoder()"
   ]
  },
  {
   "cell_type": "code",
   "execution_count": 36,
   "id": "92470617",
   "metadata": {},
   "outputs": [
    {
     "data": {
      "text/plain": [
       "Poor       3076\n",
       "Average    2043\n",
       "Good       1531\n",
       "Name: Credit_Category, dtype: int64"
      ]
     },
     "execution_count": 36,
     "metadata": {},
     "output_type": "execute_result"
    }
   ],
   "source": [
    "#data_train.iloc[:,-2:-1]\n",
    "data_train['Credit_Category'].value_counts()"
   ]
  },
  {
   "cell_type": "code",
   "execution_count": 37,
   "id": "6a93306f",
   "metadata": {},
   "outputs": [],
   "source": [
    "data_train.iloc[:,-2:-1] = label_encoder_Credit_Category.fit_transform(data_train.iloc[:,-2:-1])\n",
    "\n",
    "data_test.iloc[:,-1:] = label_encoder_Credit_Category.fit_transform(data_test.iloc[:,-1:])\n",
    "\n"
   ]
  },
  {
   "cell_type": "code",
   "execution_count": 38,
   "id": "b89ce021",
   "metadata": {},
   "outputs": [
    {
     "data": {
      "text/plain": [
       "(2    3076\n",
       " 0    2043\n",
       " 1    1531\n",
       " Name: Credit_Category, dtype: int64,\n",
       " 2    1270\n",
       " 0     866\n",
       " 1     715\n",
       " Name: Credit_Category, dtype: int64)"
      ]
     },
     "execution_count": 38,
     "metadata": {},
     "output_type": "execute_result"
    }
   ],
   "source": [
    "# Check the transformation\n",
    "data_train['Credit_Category'].value_counts(),data_test['Credit_Category'].value_counts()\n"
   ]
  },
  {
   "cell_type": "code",
   "execution_count": 39,
   "id": "ef9311e0",
   "metadata": {},
   "outputs": [],
   "source": [
    "# Transforming Product_Holdings column values using label Encoder\n",
    "label_encoder_Product_Holdings = LabelEncoder()"
   ]
  },
  {
   "cell_type": "code",
   "execution_count": 40,
   "id": "a260c16f",
   "metadata": {},
   "outputs": [
    {
     "data": {
      "text/plain": [
       "1     3200\n",
       "2     3182\n",
       "3+     268\n",
       "Name: Product_Holdings, dtype: int64"
      ]
     },
     "execution_count": 40,
     "metadata": {},
     "output_type": "execute_result"
    }
   ],
   "source": [
    "#data_train.iloc[:,5:6]\n",
    "data_train['Product_Holdings'].value_counts()"
   ]
  },
  {
   "cell_type": "code",
   "execution_count": 41,
   "id": "79eb7bee",
   "metadata": {},
   "outputs": [],
   "source": [
    "data_train.iloc[:,5:6]  = label_encoder_Product_Holdings.fit_transform(data_train.iloc[:,5:6])\n",
    "data_test.iloc[:,5:6]  = label_encoder_Credit_Category.fit_transform(data_test.iloc[:,5:6])\n",
    "\n"
   ]
  },
  {
   "cell_type": "code",
   "execution_count": 42,
   "id": "fa3790ed",
   "metadata": {},
   "outputs": [
    {
     "data": {
      "text/plain": [
       "(0    3200\n",
       " 1    3182\n",
       " 2     268\n",
       " Name: Product_Holdings, dtype: int64,\n",
       " 1    1359\n",
       " 0    1342\n",
       " 2     150\n",
       " Name: Product_Holdings, dtype: int64)"
      ]
     },
     "execution_count": 42,
     "metadata": {},
     "output_type": "execute_result"
    }
   ],
   "source": [
    "# Check the transformation\n",
    "data_train['Product_Holdings'].value_counts(), data_test['Product_Holdings'].value_counts()\n"
   ]
  },
  {
   "cell_type": "code",
   "execution_count": 44,
   "id": "1f5654da",
   "metadata": {},
   "outputs": [
    {
     "data": {
      "text/html": [
       "<div>\n",
       "<style scoped>\n",
       "    .dataframe tbody tr th:only-of-type {\n",
       "        vertical-align: middle;\n",
       "    }\n",
       "\n",
       "    .dataframe tbody tr th {\n",
       "        vertical-align: top;\n",
       "    }\n",
       "\n",
       "    .dataframe thead th {\n",
       "        text-align: right;\n",
       "    }\n",
       "</style>\n",
       "<table border=\"1\" class=\"dataframe\">\n",
       "  <thead>\n",
       "    <tr style=\"text-align: right;\">\n",
       "      <th></th>\n",
       "      <th>Age</th>\n",
       "      <th>Gender</th>\n",
       "      <th>Income</th>\n",
       "      <th>Vintage</th>\n",
       "      <th>Transaction_Status</th>\n",
       "      <th>Product_Holdings</th>\n",
       "      <th>Credit_Card</th>\n",
       "      <th>Credit_Category</th>\n",
       "      <th>Is_Churn</th>\n",
       "    </tr>\n",
       "  </thead>\n",
       "  <tbody>\n",
       "    <tr>\n",
       "      <th>0</th>\n",
       "      <td>36</td>\n",
       "      <td>0</td>\n",
       "      <td>1</td>\n",
       "      <td>4</td>\n",
       "      <td>0</td>\n",
       "      <td>0</td>\n",
       "      <td>0</td>\n",
       "      <td>0</td>\n",
       "      <td>1</td>\n",
       "    </tr>\n",
       "    <tr>\n",
       "      <th>1</th>\n",
       "      <td>53</td>\n",
       "      <td>0</td>\n",
       "      <td>2</td>\n",
       "      <td>2</td>\n",
       "      <td>1</td>\n",
       "      <td>0</td>\n",
       "      <td>1</td>\n",
       "      <td>2</td>\n",
       "      <td>0</td>\n",
       "    </tr>\n",
       "    <tr>\n",
       "      <th>2</th>\n",
       "      <td>35</td>\n",
       "      <td>0</td>\n",
       "      <td>3</td>\n",
       "      <td>2</td>\n",
       "      <td>1</td>\n",
       "      <td>1</td>\n",
       "      <td>0</td>\n",
       "      <td>2</td>\n",
       "      <td>0</td>\n",
       "    </tr>\n",
       "    <tr>\n",
       "      <th>3</th>\n",
       "      <td>43</td>\n",
       "      <td>0</td>\n",
       "      <td>3</td>\n",
       "      <td>0</td>\n",
       "      <td>1</td>\n",
       "      <td>1</td>\n",
       "      <td>1</td>\n",
       "      <td>2</td>\n",
       "      <td>1</td>\n",
       "    </tr>\n",
       "    <tr>\n",
       "      <th>4</th>\n",
       "      <td>39</td>\n",
       "      <td>0</td>\n",
       "      <td>3</td>\n",
       "      <td>1</td>\n",
       "      <td>1</td>\n",
       "      <td>0</td>\n",
       "      <td>1</td>\n",
       "      <td>1</td>\n",
       "      <td>1</td>\n",
       "    </tr>\n",
       "  </tbody>\n",
       "</table>\n",
       "</div>"
      ],
      "text/plain": [
       "   Age  Gender  Income  Vintage  Transaction_Status  Product_Holdings  \\\n",
       "0   36       0       1        4                   0                 0   \n",
       "1   53       0       2        2                   1                 0   \n",
       "2   35       0       3        2                   1                 1   \n",
       "3   43       0       3        0                   1                 1   \n",
       "4   39       0       3        1                   1                 0   \n",
       "\n",
       "   Credit_Card  Credit_Category  Is_Churn  \n",
       "0            0                0         1  \n",
       "1            1                2         0  \n",
       "2            0                2         0  \n",
       "3            1                2         1  \n",
       "4            1                1         1  "
      ]
     },
     "execution_count": 44,
     "metadata": {},
     "output_type": "execute_result"
    }
   ],
   "source": [
    "# Check the final transformation\n",
    "data_train.head()"
   ]
  },
  {
   "cell_type": "markdown",
   "id": "75d8c7e7",
   "metadata": {},
   "source": [
    "# Step 3 : Split the training data to independent fetures and dependent feature"
   ]
  },
  {
   "cell_type": "code",
   "execution_count": 62,
   "id": "f79e19f6",
   "metadata": {},
   "outputs": [],
   "source": [
    "# All features are independent features except Is_Churn\n",
    "# x - independent features\n",
    "# y - dependent features\n",
    "\n",
    "x = data_train.iloc[:,:-1] # All features except Is_Churn\n",
    "y = data_train.iloc[:,-1:] # Is_Churn"
   ]
  },
  {
   "cell_type": "code",
   "execution_count": 46,
   "id": "f24a0f41",
   "metadata": {},
   "outputs": [
    {
     "name": "stdout",
     "output_type": "stream",
     "text": [
      "(6650, 8)\n",
      "(6650, 1)\n",
      "Index(['Age', 'Gender', 'Income', 'Vintage', 'Transaction_Status',\n",
      "       'Product_Holdings', 'Credit_Card', 'Credit_Category'],\n",
      "      dtype='object')\n",
      "Index(['Is_Churn'], dtype='object')\n"
     ]
    }
   ],
   "source": [
    "#Looking at shape and size of data\n",
    "print(x.shape)\n",
    "print(y.shape)\n",
    "\n",
    "print(x.columns)\n",
    "print(y.columns)"
   ]
  },
  {
   "cell_type": "markdown",
   "id": "b794acd9",
   "metadata": {},
   "source": [
    "# Step 4 : Splitting the training data into training and testing set"
   ]
  },
  {
   "cell_type": "code",
   "execution_count": 47,
   "id": "2136330b",
   "metadata": {},
   "outputs": [
    {
     "name": "stdout",
     "output_type": "stream",
     "text": [
      "(4987, 8)\n",
      "(4987, 1)\n",
      "(1663, 8)\n",
      "(1663, 1)\n"
     ]
    }
   ],
   "source": [
    "# Splitting the data into training and testing set\n",
    "\n",
    "from sklearn.model_selection import train_test_split\n",
    "x_train, x_test, y_train, y_test = train_test_split(x, y, test_size = 0.25, random_state = 0)\n",
    "\n",
    "print(x_train.shape)\n",
    "print(y_train.shape)\n",
    "print(x_test.shape)\n",
    "print(y_test.shape)"
   ]
  },
  {
   "cell_type": "markdown",
   "id": "ed4afeba",
   "metadata": {},
   "source": [
    "# Step 5 : Feature Scaling/ Trasformation"
   ]
  },
  {
   "cell_type": "code",
   "execution_count": 48,
   "id": "f7bf06a9",
   "metadata": {},
   "outputs": [
    {
     "data": {
      "text/html": [
       "<div>\n",
       "<style scoped>\n",
       "    .dataframe tbody tr th:only-of-type {\n",
       "        vertical-align: middle;\n",
       "    }\n",
       "\n",
       "    .dataframe tbody tr th {\n",
       "        vertical-align: top;\n",
       "    }\n",
       "\n",
       "    .dataframe thead th {\n",
       "        text-align: right;\n",
       "    }\n",
       "</style>\n",
       "<table border=\"1\" class=\"dataframe\">\n",
       "  <thead>\n",
       "    <tr style=\"text-align: right;\">\n",
       "      <th></th>\n",
       "      <th>0</th>\n",
       "      <th>1</th>\n",
       "      <th>2</th>\n",
       "      <th>3</th>\n",
       "      <th>4</th>\n",
       "      <th>5</th>\n",
       "      <th>6</th>\n",
       "      <th>7</th>\n",
       "    </tr>\n",
       "  </thead>\n",
       "  <tbody>\n",
       "    <tr>\n",
       "      <th>0</th>\n",
       "      <td>-0.848876</td>\n",
       "      <td>-1.094037</td>\n",
       "      <td>-1.242871</td>\n",
       "      <td>0.53008</td>\n",
       "      <td>-1.043244</td>\n",
       "      <td>-0.980938</td>\n",
       "      <td>0.707000</td>\n",
       "      <td>0.972526</td>\n",
       "    </tr>\n",
       "    <tr>\n",
       "      <th>1</th>\n",
       "      <td>-1.056535</td>\n",
       "      <td>0.914046</td>\n",
       "      <td>-1.242871</td>\n",
       "      <td>0.53008</td>\n",
       "      <td>-1.043244</td>\n",
       "      <td>-0.980938</td>\n",
       "      <td>0.707000</td>\n",
       "      <td>-1.343056</td>\n",
       "    </tr>\n",
       "    <tr>\n",
       "      <th>2</th>\n",
       "      <td>1.020058</td>\n",
       "      <td>-1.094037</td>\n",
       "      <td>0.578789</td>\n",
       "      <td>0.53008</td>\n",
       "      <td>-1.043244</td>\n",
       "      <td>-0.980938</td>\n",
       "      <td>0.707000</td>\n",
       "      <td>0.972526</td>\n",
       "    </tr>\n",
       "    <tr>\n",
       "      <th>3</th>\n",
       "      <td>1.539207</td>\n",
       "      <td>0.914046</td>\n",
       "      <td>-1.242871</td>\n",
       "      <td>-0.15726</td>\n",
       "      <td>-1.043244</td>\n",
       "      <td>0.768057</td>\n",
       "      <td>0.707000</td>\n",
       "      <td>-1.343056</td>\n",
       "    </tr>\n",
       "    <tr>\n",
       "      <th>4</th>\n",
       "      <td>-0.848876</td>\n",
       "      <td>-1.094037</td>\n",
       "      <td>-0.332041</td>\n",
       "      <td>-0.15726</td>\n",
       "      <td>-1.043244</td>\n",
       "      <td>-0.980938</td>\n",
       "      <td>-1.414426</td>\n",
       "      <td>0.972526</td>\n",
       "    </tr>\n",
       "  </tbody>\n",
       "</table>\n",
       "</div>"
      ],
      "text/plain": [
       "          0         1         2        3         4         5         6  \\\n",
       "0 -0.848876 -1.094037 -1.242871  0.53008 -1.043244 -0.980938  0.707000   \n",
       "1 -1.056535  0.914046 -1.242871  0.53008 -1.043244 -0.980938  0.707000   \n",
       "2  1.020058 -1.094037  0.578789  0.53008 -1.043244 -0.980938  0.707000   \n",
       "3  1.539207  0.914046 -1.242871 -0.15726 -1.043244  0.768057  0.707000   \n",
       "4 -0.848876 -1.094037 -0.332041 -0.15726 -1.043244 -0.980938 -1.414426   \n",
       "\n",
       "          7  \n",
       "0  0.972526  \n",
       "1 -1.343056  \n",
       "2  0.972526  \n",
       "3 -1.343056  \n",
       "4  0.972526  "
      ]
     },
     "execution_count": 48,
     "metadata": {},
     "output_type": "execute_result"
    }
   ],
   "source": [
    "# Only on Independent Variable to convert them into values ranging from -1 to +1\n",
    "# Using Standard Scalar to normalise our data\n",
    "from sklearn.preprocessing import StandardScaler\n",
    "\n",
    "sc = StandardScaler()\n",
    "x_train = sc.fit_transform(x_train)\n",
    "x_test = sc.fit_transform(x_test)\n",
    "\n",
    "x_train = pd.DataFrame(x_train)\n",
    "x_train.head()\n"
   ]
  },
  {
   "cell_type": "code",
   "execution_count": 49,
   "id": "198a04e0",
   "metadata": {},
   "outputs": [
    {
     "data": {
      "text/html": [
       "<div>\n",
       "<style scoped>\n",
       "    .dataframe tbody tr th:only-of-type {\n",
       "        vertical-align: middle;\n",
       "    }\n",
       "\n",
       "    .dataframe tbody tr th {\n",
       "        vertical-align: top;\n",
       "    }\n",
       "\n",
       "    .dataframe thead th {\n",
       "        text-align: right;\n",
       "    }\n",
       "</style>\n",
       "<table border=\"1\" class=\"dataframe\">\n",
       "  <thead>\n",
       "    <tr style=\"text-align: right;\">\n",
       "      <th></th>\n",
       "      <th>0</th>\n",
       "      <th>1</th>\n",
       "      <th>2</th>\n",
       "      <th>3</th>\n",
       "      <th>4</th>\n",
       "      <th>5</th>\n",
       "      <th>6</th>\n",
       "      <th>7</th>\n",
       "    </tr>\n",
       "  </thead>\n",
       "  <tbody>\n",
       "    <tr>\n",
       "      <th>0</th>\n",
       "      <td>0.909802</td>\n",
       "      <td>-1.087659</td>\n",
       "      <td>1.521174</td>\n",
       "      <td>-0.148337</td>\n",
       "      <td>0.986413</td>\n",
       "      <td>0.708217</td>\n",
       "      <td>0.703575</td>\n",
       "      <td>-1.337061</td>\n",
       "    </tr>\n",
       "    <tr>\n",
       "      <th>1</th>\n",
       "      <td>-0.546246</td>\n",
       "      <td>0.919406</td>\n",
       "      <td>-0.297982</td>\n",
       "      <td>-0.148337</td>\n",
       "      <td>-1.013774</td>\n",
       "      <td>0.708217</td>\n",
       "      <td>0.703575</td>\n",
       "      <td>-1.337061</td>\n",
       "    </tr>\n",
       "    <tr>\n",
       "      <th>2</th>\n",
       "      <td>-1.690283</td>\n",
       "      <td>-1.087659</td>\n",
       "      <td>-1.207559</td>\n",
       "      <td>-1.490908</td>\n",
       "      <td>-1.013774</td>\n",
       "      <td>0.708217</td>\n",
       "      <td>0.703575</td>\n",
       "      <td>-0.165952</td>\n",
       "    </tr>\n",
       "    <tr>\n",
       "      <th>3</th>\n",
       "      <td>-0.026229</td>\n",
       "      <td>0.919406</td>\n",
       "      <td>0.611596</td>\n",
       "      <td>-1.490908</td>\n",
       "      <td>0.986413</td>\n",
       "      <td>0.708217</td>\n",
       "      <td>0.703575</td>\n",
       "      <td>1.005157</td>\n",
       "    </tr>\n",
       "    <tr>\n",
       "      <th>4</th>\n",
       "      <td>0.701795</td>\n",
       "      <td>0.919406</td>\n",
       "      <td>1.521174</td>\n",
       "      <td>-0.148337</td>\n",
       "      <td>0.986413</td>\n",
       "      <td>2.402114</td>\n",
       "      <td>-1.421312</td>\n",
       "      <td>-0.165952</td>\n",
       "    </tr>\n",
       "  </tbody>\n",
       "</table>\n",
       "</div>"
      ],
      "text/plain": [
       "          0         1         2         3         4         5         6  \\\n",
       "0  0.909802 -1.087659  1.521174 -0.148337  0.986413  0.708217  0.703575   \n",
       "1 -0.546246  0.919406 -0.297982 -0.148337 -1.013774  0.708217  0.703575   \n",
       "2 -1.690283 -1.087659 -1.207559 -1.490908 -1.013774  0.708217  0.703575   \n",
       "3 -0.026229  0.919406  0.611596 -1.490908  0.986413  0.708217  0.703575   \n",
       "4  0.701795  0.919406  1.521174 -0.148337  0.986413  2.402114 -1.421312   \n",
       "\n",
       "          7  \n",
       "0 -1.337061  \n",
       "1 -1.337061  \n",
       "2 -0.165952  \n",
       "3  1.005157  \n",
       "4 -0.165952  "
      ]
     },
     "execution_count": 49,
     "metadata": {},
     "output_type": "execute_result"
    }
   ],
   "source": [
    "data_test = sc.fit_transform(data_test)\n",
    "data_test = pd.DataFrame(data_test)\n",
    "data_test.head()"
   ]
  },
  {
   "cell_type": "markdown",
   "id": "34439cb1",
   "metadata": {},
   "source": [
    "# Step 6 : Build Model"
   ]
  },
  {
   "cell_type": "markdown",
   "id": "54284253",
   "metadata": {},
   "source": [
    "# Model 1 : Random Forest"
   ]
  },
  {
   "cell_type": "code",
   "execution_count": 50,
   "id": "aead5d3d",
   "metadata": {},
   "outputs": [
    {
     "name": "stderr",
     "output_type": "stream",
     "text": [
      "/var/folders/jn/b50t2m9547g_v10vf9vqqk_40000gp/T/ipykernel_13788/2139025471.py:5: DataConversionWarning: A column-vector y was passed when a 1d array was expected. Please change the shape of y to (n_samples,), for example using ravel().\n",
      "  model_RF.fit(x_train, y_train)\n"
     ]
    },
    {
     "name": "stdout",
     "output_type": "stream",
     "text": [
      "Training Accuracy : 0.9723280529376379\n",
      "Testing Accuracy : 0.7294046903187011\n",
      "[[1150  127]\n",
      " [ 323   63]]\n"
     ]
    }
   ],
   "source": [
    "from sklearn.ensemble import RandomForestClassifier\n",
    "from sklearn.metrics import confusion_matrix\n",
    "\n",
    "model_RF = RandomForestClassifier()\n",
    "model_RF.fit(x_train, y_train)\n",
    "\n",
    "y_pred = model_RF.predict(x_test)\n",
    "\n",
    "print(\"Training Accuracy :\", model_RF.score(x_train, y_train))\n",
    "print(\"Testing Accuracy :\", model_RF.score(x_test, y_test))\n",
    "\n",
    "cm = confusion_matrix(y_test, y_pred)\n",
    "print(cm)"
   ]
  },
  {
   "cell_type": "code",
   "execution_count": 51,
   "id": "cacf3aa8",
   "metadata": {},
   "outputs": [],
   "source": [
    "#Save the pickel file\n",
    "pickle.dump(model_RF, open('model_RF_Final.pkl', 'wb'))"
   ]
  },
  {
   "cell_type": "code",
   "execution_count": 52,
   "id": "9f908d00",
   "metadata": {},
   "outputs": [
    {
     "data": {
      "text/plain": [
       "0.5275568181818182"
      ]
     },
     "execution_count": 52,
     "metadata": {},
     "output_type": "execute_result"
    }
   ],
   "source": [
    "f1_score(y_test, y_pred, average='macro')"
   ]
  },
  {
   "cell_type": "code",
   "execution_count": 53,
   "id": "ae41aaed",
   "metadata": {},
   "outputs": [
    {
     "data": {
      "text/plain": [
       "array([0, 0, 0, ..., 1, 0, 1])"
      ]
     },
     "execution_count": 53,
     "metadata": {},
     "output_type": "execute_result"
    }
   ],
   "source": [
    "y_pred_unseen = model_RF.predict(data_test)\n",
    "y_pred_unseen"
   ]
  },
  {
   "cell_type": "code",
   "execution_count": 54,
   "id": "f279d611",
   "metadata": {},
   "outputs": [
    {
     "data": {
      "text/html": [
       "<div>\n",
       "<style scoped>\n",
       "    .dataframe tbody tr th:only-of-type {\n",
       "        vertical-align: middle;\n",
       "    }\n",
       "\n",
       "    .dataframe tbody tr th {\n",
       "        vertical-align: top;\n",
       "    }\n",
       "\n",
       "    .dataframe thead th {\n",
       "        text-align: right;\n",
       "    }\n",
       "</style>\n",
       "<table border=\"1\" class=\"dataframe\">\n",
       "  <thead>\n",
       "    <tr style=\"text-align: right;\">\n",
       "      <th></th>\n",
       "      <th>ID</th>\n",
       "      <th>Age</th>\n",
       "      <th>Gender</th>\n",
       "      <th>Income</th>\n",
       "      <th>Balance</th>\n",
       "      <th>Vintage</th>\n",
       "      <th>Transaction_Status</th>\n",
       "      <th>Product_Holdings</th>\n",
       "      <th>Credit_Card</th>\n",
       "      <th>Credit_Category</th>\n",
       "      <th>Is_Churn</th>\n",
       "    </tr>\n",
       "  </thead>\n",
       "  <tbody>\n",
       "    <tr>\n",
       "      <th>0</th>\n",
       "      <td>55480787</td>\n",
       "      <td>50</td>\n",
       "      <td>Female</td>\n",
       "      <td>More than 15L</td>\n",
       "      <td>1008636.39</td>\n",
       "      <td>2</td>\n",
       "      <td>1</td>\n",
       "      <td>2</td>\n",
       "      <td>1</td>\n",
       "      <td>Average</td>\n",
       "      <td>0</td>\n",
       "    </tr>\n",
       "    <tr>\n",
       "      <th>1</th>\n",
       "      <td>9aededf2</td>\n",
       "      <td>36</td>\n",
       "      <td>Male</td>\n",
       "      <td>5L - 10L</td>\n",
       "      <td>341460.72</td>\n",
       "      <td>2</td>\n",
       "      <td>0</td>\n",
       "      <td>2</td>\n",
       "      <td>1</td>\n",
       "      <td>Average</td>\n",
       "      <td>0</td>\n",
       "    </tr>\n",
       "    <tr>\n",
       "      <th>2</th>\n",
       "      <td>a5034a09</td>\n",
       "      <td>25</td>\n",
       "      <td>Female</td>\n",
       "      <td>10L - 15L</td>\n",
       "      <td>439460.10</td>\n",
       "      <td>0</td>\n",
       "      <td>0</td>\n",
       "      <td>2</td>\n",
       "      <td>1</td>\n",
       "      <td>Good</td>\n",
       "      <td>0</td>\n",
       "    </tr>\n",
       "    <tr>\n",
       "      <th>3</th>\n",
       "      <td>b3256702</td>\n",
       "      <td>41</td>\n",
       "      <td>Male</td>\n",
       "      <td>Less than 5L</td>\n",
       "      <td>28581.93</td>\n",
       "      <td>0</td>\n",
       "      <td>1</td>\n",
       "      <td>2</td>\n",
       "      <td>1</td>\n",
       "      <td>Poor</td>\n",
       "      <td>0</td>\n",
       "    </tr>\n",
       "    <tr>\n",
       "      <th>4</th>\n",
       "      <td>dc28adb5</td>\n",
       "      <td>48</td>\n",
       "      <td>Male</td>\n",
       "      <td>More than 15L</td>\n",
       "      <td>1104540.03</td>\n",
       "      <td>2</td>\n",
       "      <td>1</td>\n",
       "      <td>3+</td>\n",
       "      <td>0</td>\n",
       "      <td>Good</td>\n",
       "      <td>0</td>\n",
       "    </tr>\n",
       "  </tbody>\n",
       "</table>\n",
       "</div>"
      ],
      "text/plain": [
       "         ID  Age  Gender         Income     Balance  Vintage  \\\n",
       "0  55480787   50  Female  More than 15L  1008636.39        2   \n",
       "1  9aededf2   36    Male       5L - 10L   341460.72        2   \n",
       "2  a5034a09   25  Female      10L - 15L   439460.10        0   \n",
       "3  b3256702   41    Male   Less than 5L    28581.93        0   \n",
       "4  dc28adb5   48    Male  More than 15L  1104540.03        2   \n",
       "\n",
       "   Transaction_Status Product_Holdings  Credit_Card Credit_Category  Is_Churn  \n",
       "0                   1                2            1         Average         0  \n",
       "1                   0                2            1         Average         0  \n",
       "2                   0                2            1            Good         0  \n",
       "3                   1                2            1            Poor         0  \n",
       "4                   1               3+            0            Good         0  "
      ]
     },
     "execution_count": 54,
     "metadata": {},
     "output_type": "execute_result"
    }
   ],
   "source": [
    "data_unseen = pd.read_csv('test_lTY72QC.csv')\n",
    "data_unseen['Is_Churn'] = y_pred_unseen\n",
    "data_unseen.head()"
   ]
  },
  {
   "cell_type": "code",
   "execution_count": 55,
   "id": "46b7c84b",
   "metadata": {},
   "outputs": [],
   "source": [
    "Finall_Submision_RF = data_unseen[['ID','Is_Churn']]\n",
    "Finall_Submision_RF.to_csv('Finall_Submision_RF1.csv',index=False)"
   ]
  },
  {
   "cell_type": "markdown",
   "id": "a1713ca4",
   "metadata": {},
   "source": [
    "# Model 2 : Naive Bayes"
   ]
  },
  {
   "cell_type": "code",
   "execution_count": 56,
   "id": "d26b8b0a",
   "metadata": {},
   "outputs": [
    {
     "name": "stdout",
     "output_type": "stream",
     "text": [
      "Training Accuracy : 0.7685983557248847\n",
      "Testing Accuracy : 0.7594708358388454\n",
      "[[1238   39]\n",
      " [ 361   25]]\n"
     ]
    },
    {
     "name": "stderr",
     "output_type": "stream",
     "text": [
      "/Users/deepthi/opt/anaconda3/lib/python3.9/site-packages/sklearn/utils/validation.py:993: DataConversionWarning: A column-vector y was passed when a 1d array was expected. Please change the shape of y to (n_samples, ), for example using ravel().\n",
      "  y = column_or_1d(y, warn=True)\n"
     ]
    }
   ],
   "source": [
    "from sklearn.naive_bayes import GaussianNB\n",
    "\n",
    "model_GaussianNB = GaussianNB()\n",
    "model_GaussianNB.fit(x_train, y_train)\n",
    "\n",
    "y_pred = model_GaussianNB.predict(x_test)\n",
    "\n",
    "print(\"Training Accuracy :\", model_GaussianNB.score(x_train, y_train))\n",
    "print(\"Testing Accuracy :\", model_GaussianNB.score(x_test, y_test))\n",
    "\n",
    "cm = confusion_matrix(y_test, y_pred)\n",
    "print(cm)"
   ]
  },
  {
   "cell_type": "code",
   "execution_count": 57,
   "id": "a6e181a0",
   "metadata": {},
   "outputs": [
    {
     "data": {
      "text/plain": [
       "0.48601452634832326"
      ]
     },
     "execution_count": 57,
     "metadata": {},
     "output_type": "execute_result"
    }
   ],
   "source": [
    "f1_score(y_test, y_pred, average='macro')"
   ]
  },
  {
   "cell_type": "code",
   "execution_count": 58,
   "id": "680473d3",
   "metadata": {},
   "outputs": [
    {
     "data": {
      "text/plain": [
       "array([0, 0, 0, ..., 1, 0, 0])"
      ]
     },
     "execution_count": 58,
     "metadata": {},
     "output_type": "execute_result"
    }
   ],
   "source": [
    "y_pred_unseen = model_GaussianNB.predict(data_test)\n",
    "y_pred_unseen"
   ]
  },
  {
   "cell_type": "code",
   "execution_count": 59,
   "id": "d40737cd",
   "metadata": {},
   "outputs": [
    {
     "data": {
      "text/html": [
       "<div>\n",
       "<style scoped>\n",
       "    .dataframe tbody tr th:only-of-type {\n",
       "        vertical-align: middle;\n",
       "    }\n",
       "\n",
       "    .dataframe tbody tr th {\n",
       "        vertical-align: top;\n",
       "    }\n",
       "\n",
       "    .dataframe thead th {\n",
       "        text-align: right;\n",
       "    }\n",
       "</style>\n",
       "<table border=\"1\" class=\"dataframe\">\n",
       "  <thead>\n",
       "    <tr style=\"text-align: right;\">\n",
       "      <th></th>\n",
       "      <th>ID</th>\n",
       "      <th>Age</th>\n",
       "      <th>Gender</th>\n",
       "      <th>Income</th>\n",
       "      <th>Balance</th>\n",
       "      <th>Vintage</th>\n",
       "      <th>Transaction_Status</th>\n",
       "      <th>Product_Holdings</th>\n",
       "      <th>Credit_Card</th>\n",
       "      <th>Credit_Category</th>\n",
       "      <th>Is_Churn</th>\n",
       "    </tr>\n",
       "  </thead>\n",
       "  <tbody>\n",
       "    <tr>\n",
       "      <th>0</th>\n",
       "      <td>55480787</td>\n",
       "      <td>50</td>\n",
       "      <td>Female</td>\n",
       "      <td>More than 15L</td>\n",
       "      <td>1008636.39</td>\n",
       "      <td>2</td>\n",
       "      <td>1</td>\n",
       "      <td>2</td>\n",
       "      <td>1</td>\n",
       "      <td>Average</td>\n",
       "      <td>0</td>\n",
       "    </tr>\n",
       "    <tr>\n",
       "      <th>1</th>\n",
       "      <td>9aededf2</td>\n",
       "      <td>36</td>\n",
       "      <td>Male</td>\n",
       "      <td>5L - 10L</td>\n",
       "      <td>341460.72</td>\n",
       "      <td>2</td>\n",
       "      <td>0</td>\n",
       "      <td>2</td>\n",
       "      <td>1</td>\n",
       "      <td>Average</td>\n",
       "      <td>0</td>\n",
       "    </tr>\n",
       "    <tr>\n",
       "      <th>2</th>\n",
       "      <td>a5034a09</td>\n",
       "      <td>25</td>\n",
       "      <td>Female</td>\n",
       "      <td>10L - 15L</td>\n",
       "      <td>439460.10</td>\n",
       "      <td>0</td>\n",
       "      <td>0</td>\n",
       "      <td>2</td>\n",
       "      <td>1</td>\n",
       "      <td>Good</td>\n",
       "      <td>0</td>\n",
       "    </tr>\n",
       "    <tr>\n",
       "      <th>3</th>\n",
       "      <td>b3256702</td>\n",
       "      <td>41</td>\n",
       "      <td>Male</td>\n",
       "      <td>Less than 5L</td>\n",
       "      <td>28581.93</td>\n",
       "      <td>0</td>\n",
       "      <td>1</td>\n",
       "      <td>2</td>\n",
       "      <td>1</td>\n",
       "      <td>Poor</td>\n",
       "      <td>0</td>\n",
       "    </tr>\n",
       "    <tr>\n",
       "      <th>4</th>\n",
       "      <td>dc28adb5</td>\n",
       "      <td>48</td>\n",
       "      <td>Male</td>\n",
       "      <td>More than 15L</td>\n",
       "      <td>1104540.03</td>\n",
       "      <td>2</td>\n",
       "      <td>1</td>\n",
       "      <td>3+</td>\n",
       "      <td>0</td>\n",
       "      <td>Good</td>\n",
       "      <td>0</td>\n",
       "    </tr>\n",
       "  </tbody>\n",
       "</table>\n",
       "</div>"
      ],
      "text/plain": [
       "         ID  Age  Gender         Income     Balance  Vintage  \\\n",
       "0  55480787   50  Female  More than 15L  1008636.39        2   \n",
       "1  9aededf2   36    Male       5L - 10L   341460.72        2   \n",
       "2  a5034a09   25  Female      10L - 15L   439460.10        0   \n",
       "3  b3256702   41    Male   Less than 5L    28581.93        0   \n",
       "4  dc28adb5   48    Male  More than 15L  1104540.03        2   \n",
       "\n",
       "   Transaction_Status Product_Holdings  Credit_Card Credit_Category  Is_Churn  \n",
       "0                   1                2            1         Average         0  \n",
       "1                   0                2            1         Average         0  \n",
       "2                   0                2            1            Good         0  \n",
       "3                   1                2            1            Poor         0  \n",
       "4                   1               3+            0            Good         0  "
      ]
     },
     "execution_count": 59,
     "metadata": {},
     "output_type": "execute_result"
    }
   ],
   "source": [
    "data_unseen = pd.read_csv('test_lTY72QC.csv')\n",
    "data_unseen['Is_Churn'] = y_pred_unseen\n",
    "data_unseen.head()"
   ]
  },
  {
   "cell_type": "markdown",
   "id": "675713df",
   "metadata": {},
   "source": [
    "# Normalisation"
   ]
  },
  {
   "cell_type": "code",
   "execution_count": 64,
   "id": "f08f7860",
   "metadata": {},
   "outputs": [],
   "source": [
    "column = ['Age',\n",
    " 'Gender',\n",
    " 'Income',\n",
    " 'Vintage',\n",
    " 'Transaction_Status',\n",
    " 'Product_Holdings',\n",
    " 'Credit_Card',\n",
    " 'Credit_Category']"
   ]
  },
  {
   "cell_type": "code",
   "execution_count": 65,
   "id": "797c37a2",
   "metadata": {},
   "outputs": [
    {
     "data": {
      "text/html": [
       "<div>\n",
       "<style scoped>\n",
       "    .dataframe tbody tr th:only-of-type {\n",
       "        vertical-align: middle;\n",
       "    }\n",
       "\n",
       "    .dataframe tbody tr th {\n",
       "        vertical-align: top;\n",
       "    }\n",
       "\n",
       "    .dataframe thead th {\n",
       "        text-align: right;\n",
       "    }\n",
       "</style>\n",
       "<table border=\"1\" class=\"dataframe\">\n",
       "  <thead>\n",
       "    <tr style=\"text-align: right;\">\n",
       "      <th></th>\n",
       "      <th>0</th>\n",
       "      <th>1</th>\n",
       "      <th>2</th>\n",
       "      <th>3</th>\n",
       "      <th>4</th>\n",
       "      <th>5</th>\n",
       "      <th>6</th>\n",
       "      <th>7</th>\n",
       "    </tr>\n",
       "  </thead>\n",
       "  <tbody>\n",
       "    <tr>\n",
       "      <th>0</th>\n",
       "      <td>-0.529707</td>\n",
       "      <td>-1.090385</td>\n",
       "      <td>-0.326281</td>\n",
       "      <td>1.199556</td>\n",
       "      <td>-1.032094</td>\n",
       "      <td>-0.977556</td>\n",
       "      <td>-1.406908</td>\n",
       "      <td>-1.337961</td>\n",
       "    </tr>\n",
       "    <tr>\n",
       "      <th>1</th>\n",
       "      <td>1.225581</td>\n",
       "      <td>-1.090385</td>\n",
       "      <td>0.586153</td>\n",
       "      <td>-0.171542</td>\n",
       "      <td>0.968904</td>\n",
       "      <td>-0.977556</td>\n",
       "      <td>0.710778</td>\n",
       "      <td>0.978176</td>\n",
       "    </tr>\n",
       "    <tr>\n",
       "      <th>2</th>\n",
       "      <td>-0.632960</td>\n",
       "      <td>-1.090385</td>\n",
       "      <td>1.498587</td>\n",
       "      <td>-0.171542</td>\n",
       "      <td>0.968904</td>\n",
       "      <td>0.770897</td>\n",
       "      <td>-1.406908</td>\n",
       "      <td>0.978176</td>\n",
       "    </tr>\n",
       "    <tr>\n",
       "      <th>3</th>\n",
       "      <td>0.193058</td>\n",
       "      <td>-1.090385</td>\n",
       "      <td>1.498587</td>\n",
       "      <td>-1.542639</td>\n",
       "      <td>0.968904</td>\n",
       "      <td>0.770897</td>\n",
       "      <td>0.710778</td>\n",
       "      <td>0.978176</td>\n",
       "    </tr>\n",
       "    <tr>\n",
       "      <th>4</th>\n",
       "      <td>-0.219951</td>\n",
       "      <td>-1.090385</td>\n",
       "      <td>1.498587</td>\n",
       "      <td>-0.857091</td>\n",
       "      <td>0.968904</td>\n",
       "      <td>-0.977556</td>\n",
       "      <td>0.710778</td>\n",
       "      <td>-0.179892</td>\n",
       "    </tr>\n",
       "  </tbody>\n",
       "</table>\n",
       "</div>"
      ],
      "text/plain": [
       "          0         1         2         3         4         5         6  \\\n",
       "0 -0.529707 -1.090385 -0.326281  1.199556 -1.032094 -0.977556 -1.406908   \n",
       "1  1.225581 -1.090385  0.586153 -0.171542  0.968904 -0.977556  0.710778   \n",
       "2 -0.632960 -1.090385  1.498587 -0.171542  0.968904  0.770897 -1.406908   \n",
       "3  0.193058 -1.090385  1.498587 -1.542639  0.968904  0.770897  0.710778   \n",
       "4 -0.219951 -1.090385  1.498587 -0.857091  0.968904 -0.977556  0.710778   \n",
       "\n",
       "          7  \n",
       "0 -1.337961  \n",
       "1  0.978176  \n",
       "2  0.978176  \n",
       "3  0.978176  \n",
       "4 -0.179892  "
      ]
     },
     "execution_count": 65,
     "metadata": {},
     "output_type": "execute_result"
    }
   ],
   "source": [
    "# Only on Independent Variable to convert them into values ranging from -1 to +1\n",
    "# Using Standard Scalar to normalise our data\n",
    "from sklearn.preprocessing import StandardScaler\n",
    "\n",
    "sc = StandardScaler()\n",
    "x = sc.fit_transform(x)\n",
    "x = pd.DataFrame(x)\n",
    "x.head()"
   ]
  },
  {
   "cell_type": "code",
   "execution_count": 66,
   "id": "78ba5c80",
   "metadata": {},
   "outputs": [
    {
     "data": {
      "text/html": [
       "<div>\n",
       "<style scoped>\n",
       "    .dataframe tbody tr th:only-of-type {\n",
       "        vertical-align: middle;\n",
       "    }\n",
       "\n",
       "    .dataframe tbody tr th {\n",
       "        vertical-align: top;\n",
       "    }\n",
       "\n",
       "    .dataframe thead th {\n",
       "        text-align: right;\n",
       "    }\n",
       "</style>\n",
       "<table border=\"1\" class=\"dataframe\">\n",
       "  <thead>\n",
       "    <tr style=\"text-align: right;\">\n",
       "      <th></th>\n",
       "      <th>0</th>\n",
       "      <th>1</th>\n",
       "      <th>2</th>\n",
       "      <th>3</th>\n",
       "      <th>4</th>\n",
       "      <th>5</th>\n",
       "      <th>6</th>\n",
       "      <th>7</th>\n",
       "    </tr>\n",
       "  </thead>\n",
       "  <tbody>\n",
       "    <tr>\n",
       "      <th>0</th>\n",
       "      <td>0.909802</td>\n",
       "      <td>-1.087659</td>\n",
       "      <td>1.521174</td>\n",
       "      <td>-0.148337</td>\n",
       "      <td>0.986413</td>\n",
       "      <td>0.708217</td>\n",
       "      <td>0.703575</td>\n",
       "      <td>-1.337061</td>\n",
       "    </tr>\n",
       "    <tr>\n",
       "      <th>1</th>\n",
       "      <td>-0.546246</td>\n",
       "      <td>0.919406</td>\n",
       "      <td>-0.297982</td>\n",
       "      <td>-0.148337</td>\n",
       "      <td>-1.013774</td>\n",
       "      <td>0.708217</td>\n",
       "      <td>0.703575</td>\n",
       "      <td>-1.337061</td>\n",
       "    </tr>\n",
       "    <tr>\n",
       "      <th>2</th>\n",
       "      <td>-1.690283</td>\n",
       "      <td>-1.087659</td>\n",
       "      <td>-1.207559</td>\n",
       "      <td>-1.490908</td>\n",
       "      <td>-1.013774</td>\n",
       "      <td>0.708217</td>\n",
       "      <td>0.703575</td>\n",
       "      <td>-0.165952</td>\n",
       "    </tr>\n",
       "    <tr>\n",
       "      <th>3</th>\n",
       "      <td>-0.026229</td>\n",
       "      <td>0.919406</td>\n",
       "      <td>0.611596</td>\n",
       "      <td>-1.490908</td>\n",
       "      <td>0.986413</td>\n",
       "      <td>0.708217</td>\n",
       "      <td>0.703575</td>\n",
       "      <td>1.005157</td>\n",
       "    </tr>\n",
       "    <tr>\n",
       "      <th>4</th>\n",
       "      <td>0.701795</td>\n",
       "      <td>0.919406</td>\n",
       "      <td>1.521174</td>\n",
       "      <td>-0.148337</td>\n",
       "      <td>0.986413</td>\n",
       "      <td>2.402114</td>\n",
       "      <td>-1.421312</td>\n",
       "      <td>-0.165952</td>\n",
       "    </tr>\n",
       "  </tbody>\n",
       "</table>\n",
       "</div>"
      ],
      "text/plain": [
       "          0         1         2         3         4         5         6  \\\n",
       "0  0.909802 -1.087659  1.521174 -0.148337  0.986413  0.708217  0.703575   \n",
       "1 -0.546246  0.919406 -0.297982 -0.148337 -1.013774  0.708217  0.703575   \n",
       "2 -1.690283 -1.087659 -1.207559 -1.490908 -1.013774  0.708217  0.703575   \n",
       "3 -0.026229  0.919406  0.611596 -1.490908  0.986413  0.708217  0.703575   \n",
       "4  0.701795  0.919406  1.521174 -0.148337  0.986413  2.402114 -1.421312   \n",
       "\n",
       "          7  \n",
       "0 -1.337061  \n",
       "1 -1.337061  \n",
       "2 -0.165952  \n",
       "3  1.005157  \n",
       "4 -0.165952  "
      ]
     },
     "execution_count": 66,
     "metadata": {},
     "output_type": "execute_result"
    }
   ],
   "source": [
    "data_test = sc.fit_transform(data_test)\n",
    "data_test = pd.DataFrame(data_test)\n",
    "data_test.head()"
   ]
  },
  {
   "cell_type": "code",
   "execution_count": 67,
   "id": "a838b1dc",
   "metadata": {},
   "outputs": [],
   "source": [
    "column = ['Age',\n",
    " 'Gender',\n",
    " 'Income',\n",
    " 'Vintage',\n",
    " 'Transaction_Status',\n",
    " 'Product_Holdings',\n",
    " 'Credit_Card',\n",
    " 'Credit_Category']"
   ]
  },
  {
   "cell_type": "code",
   "execution_count": 68,
   "id": "0e945bf4",
   "metadata": {},
   "outputs": [
    {
     "data": {
      "text/html": [
       "<div>\n",
       "<style scoped>\n",
       "    .dataframe tbody tr th:only-of-type {\n",
       "        vertical-align: middle;\n",
       "    }\n",
       "\n",
       "    .dataframe tbody tr th {\n",
       "        vertical-align: top;\n",
       "    }\n",
       "\n",
       "    .dataframe thead th {\n",
       "        text-align: right;\n",
       "    }\n",
       "</style>\n",
       "<table border=\"1\" class=\"dataframe\">\n",
       "  <thead>\n",
       "    <tr style=\"text-align: right;\">\n",
       "      <th></th>\n",
       "      <th>Age</th>\n",
       "      <th>Gender</th>\n",
       "      <th>Income</th>\n",
       "      <th>Vintage</th>\n",
       "      <th>Transaction_Status</th>\n",
       "      <th>Product_Holdings</th>\n",
       "      <th>Credit_Card</th>\n",
       "      <th>Credit_Category</th>\n",
       "    </tr>\n",
       "  </thead>\n",
       "  <tbody>\n",
       "    <tr>\n",
       "      <th>0</th>\n",
       "      <td>-0.006496</td>\n",
       "      <td>-0.013371</td>\n",
       "      <td>-0.004001</td>\n",
       "      <td>0.014710</td>\n",
       "      <td>-0.012656</td>\n",
       "      <td>-0.011988</td>\n",
       "      <td>-0.017253</td>\n",
       "      <td>-0.016407</td>\n",
       "    </tr>\n",
       "    <tr>\n",
       "      <th>1</th>\n",
       "      <td>0.015029</td>\n",
       "      <td>-0.013371</td>\n",
       "      <td>0.007188</td>\n",
       "      <td>-0.002104</td>\n",
       "      <td>0.011881</td>\n",
       "      <td>-0.011988</td>\n",
       "      <td>0.008716</td>\n",
       "      <td>0.011995</td>\n",
       "    </tr>\n",
       "    <tr>\n",
       "      <th>2</th>\n",
       "      <td>-0.007762</td>\n",
       "      <td>-0.013371</td>\n",
       "      <td>0.018377</td>\n",
       "      <td>-0.002104</td>\n",
       "      <td>0.011881</td>\n",
       "      <td>0.009453</td>\n",
       "      <td>-0.017253</td>\n",
       "      <td>0.011995</td>\n",
       "    </tr>\n",
       "    <tr>\n",
       "      <th>3</th>\n",
       "      <td>0.002367</td>\n",
       "      <td>-0.013371</td>\n",
       "      <td>0.018377</td>\n",
       "      <td>-0.018917</td>\n",
       "      <td>0.011881</td>\n",
       "      <td>0.009453</td>\n",
       "      <td>0.008716</td>\n",
       "      <td>0.011995</td>\n",
       "    </tr>\n",
       "    <tr>\n",
       "      <th>4</th>\n",
       "      <td>-0.002697</td>\n",
       "      <td>-0.013371</td>\n",
       "      <td>0.018377</td>\n",
       "      <td>-0.010510</td>\n",
       "      <td>0.011881</td>\n",
       "      <td>-0.011988</td>\n",
       "      <td>0.008716</td>\n",
       "      <td>-0.002206</td>\n",
       "    </tr>\n",
       "  </tbody>\n",
       "</table>\n",
       "</div>"
      ],
      "text/plain": [
       "        Age    Gender    Income   Vintage  Transaction_Status  \\\n",
       "0 -0.006496 -0.013371 -0.004001  0.014710           -0.012656   \n",
       "1  0.015029 -0.013371  0.007188 -0.002104            0.011881   \n",
       "2 -0.007762 -0.013371  0.018377 -0.002104            0.011881   \n",
       "3  0.002367 -0.013371  0.018377 -0.018917            0.011881   \n",
       "4 -0.002697 -0.013371  0.018377 -0.010510            0.011881   \n",
       "\n",
       "   Product_Holdings  Credit_Card  Credit_Category  \n",
       "0         -0.011988    -0.017253        -0.016407  \n",
       "1         -0.011988     0.008716         0.011995  \n",
       "2          0.009453    -0.017253         0.011995  \n",
       "3          0.009453     0.008716         0.011995  \n",
       "4         -0.011988     0.008716        -0.002206  "
      ]
     },
     "execution_count": 68,
     "metadata": {},
     "output_type": "execute_result"
    }
   ],
   "source": [
    "from sklearn import preprocessing\n",
    "x = preprocessing.normalize(x, axis=0)\n",
    "x = pd.DataFrame(x, columns=column)\n",
    "x.head()"
   ]
  },
  {
   "cell_type": "code",
   "execution_count": 69,
   "id": "86fc83ef",
   "metadata": {},
   "outputs": [
    {
     "data": {
      "text/html": [
       "<div>\n",
       "<style scoped>\n",
       "    .dataframe tbody tr th:only-of-type {\n",
       "        vertical-align: middle;\n",
       "    }\n",
       "\n",
       "    .dataframe tbody tr th {\n",
       "        vertical-align: top;\n",
       "    }\n",
       "\n",
       "    .dataframe thead th {\n",
       "        text-align: right;\n",
       "    }\n",
       "</style>\n",
       "<table border=\"1\" class=\"dataframe\">\n",
       "  <thead>\n",
       "    <tr style=\"text-align: right;\">\n",
       "      <th></th>\n",
       "      <th>Age</th>\n",
       "      <th>Gender</th>\n",
       "      <th>Income</th>\n",
       "      <th>Vintage</th>\n",
       "      <th>Transaction_Status</th>\n",
       "      <th>Product_Holdings</th>\n",
       "      <th>Credit_Card</th>\n",
       "      <th>Credit_Category</th>\n",
       "    </tr>\n",
       "  </thead>\n",
       "  <tbody>\n",
       "    <tr>\n",
       "      <th>0</th>\n",
       "      <td>0.017039</td>\n",
       "      <td>-0.020370</td>\n",
       "      <td>0.028489</td>\n",
       "      <td>-0.002778</td>\n",
       "      <td>0.018474</td>\n",
       "      <td>0.013264</td>\n",
       "      <td>0.013177</td>\n",
       "      <td>-0.025041</td>\n",
       "    </tr>\n",
       "    <tr>\n",
       "      <th>1</th>\n",
       "      <td>-0.010230</td>\n",
       "      <td>0.017219</td>\n",
       "      <td>-0.005581</td>\n",
       "      <td>-0.002778</td>\n",
       "      <td>-0.018986</td>\n",
       "      <td>0.013264</td>\n",
       "      <td>0.013177</td>\n",
       "      <td>-0.025041</td>\n",
       "    </tr>\n",
       "    <tr>\n",
       "      <th>2</th>\n",
       "      <td>-0.031656</td>\n",
       "      <td>-0.020370</td>\n",
       "      <td>-0.022616</td>\n",
       "      <td>-0.027922</td>\n",
       "      <td>-0.018986</td>\n",
       "      <td>0.013264</td>\n",
       "      <td>0.013177</td>\n",
       "      <td>-0.003108</td>\n",
       "    </tr>\n",
       "    <tr>\n",
       "      <th>3</th>\n",
       "      <td>-0.000491</td>\n",
       "      <td>0.017219</td>\n",
       "      <td>0.011454</td>\n",
       "      <td>-0.027922</td>\n",
       "      <td>0.018474</td>\n",
       "      <td>0.013264</td>\n",
       "      <td>0.013177</td>\n",
       "      <td>0.018825</td>\n",
       "    </tr>\n",
       "    <tr>\n",
       "      <th>4</th>\n",
       "      <td>0.013144</td>\n",
       "      <td>0.017219</td>\n",
       "      <td>0.028489</td>\n",
       "      <td>-0.002778</td>\n",
       "      <td>0.018474</td>\n",
       "      <td>0.044988</td>\n",
       "      <td>-0.026619</td>\n",
       "      <td>-0.003108</td>\n",
       "    </tr>\n",
       "  </tbody>\n",
       "</table>\n",
       "</div>"
      ],
      "text/plain": [
       "        Age    Gender    Income   Vintage  Transaction_Status  \\\n",
       "0  0.017039 -0.020370  0.028489 -0.002778            0.018474   \n",
       "1 -0.010230  0.017219 -0.005581 -0.002778           -0.018986   \n",
       "2 -0.031656 -0.020370 -0.022616 -0.027922           -0.018986   \n",
       "3 -0.000491  0.017219  0.011454 -0.027922            0.018474   \n",
       "4  0.013144  0.017219  0.028489 -0.002778            0.018474   \n",
       "\n",
       "   Product_Holdings  Credit_Card  Credit_Category  \n",
       "0          0.013264     0.013177        -0.025041  \n",
       "1          0.013264     0.013177        -0.025041  \n",
       "2          0.013264     0.013177        -0.003108  \n",
       "3          0.013264     0.013177         0.018825  \n",
       "4          0.044988    -0.026619        -0.003108  "
      ]
     },
     "execution_count": 69,
     "metadata": {},
     "output_type": "execute_result"
    }
   ],
   "source": [
    "data_test = preprocessing.normalize(data_test, axis=0)\n",
    "data_test = pd.DataFrame(data_test, columns=column)\n",
    "data_test.head()"
   ]
  },
  {
   "cell_type": "code",
   "execution_count": 70,
   "id": "7b82bf16",
   "metadata": {},
   "outputs": [],
   "source": [
    "# Normalize Distribution using QuantileTransformer\n",
    "quantile_transformer = preprocessing.QuantileTransformer(\n",
    "    output_distribution='normal', random_state=0)"
   ]
  },
  {
   "cell_type": "code",
   "execution_count": 71,
   "id": "07a6722e",
   "metadata": {},
   "outputs": [
    {
     "data": {
      "text/html": [
       "<div>\n",
       "<style scoped>\n",
       "    .dataframe tbody tr th:only-of-type {\n",
       "        vertical-align: middle;\n",
       "    }\n",
       "\n",
       "    .dataframe tbody tr th {\n",
       "        vertical-align: top;\n",
       "    }\n",
       "\n",
       "    .dataframe thead th {\n",
       "        text-align: right;\n",
       "    }\n",
       "</style>\n",
       "<table border=\"1\" class=\"dataframe\">\n",
       "  <thead>\n",
       "    <tr style=\"text-align: right;\">\n",
       "      <th></th>\n",
       "      <th>Age</th>\n",
       "      <th>Gender</th>\n",
       "      <th>Income</th>\n",
       "      <th>Vintage</th>\n",
       "      <th>Transaction_Status</th>\n",
       "      <th>Product_Holdings</th>\n",
       "      <th>Credit_Card</th>\n",
       "      <th>Credit_Category</th>\n",
       "    </tr>\n",
       "  </thead>\n",
       "  <tbody>\n",
       "    <tr>\n",
       "      <th>0</th>\n",
       "      <td>-0.415634</td>\n",
       "      <td>-5.199338</td>\n",
       "      <td>-0.195700</td>\n",
       "      <td>1.061884</td>\n",
       "      <td>-5.199338</td>\n",
       "      <td>-5.199338</td>\n",
       "      <td>-5.199338</td>\n",
       "      <td>-5.199338</td>\n",
       "    </tr>\n",
       "    <tr>\n",
       "      <th>1</th>\n",
       "      <td>1.140077</td>\n",
       "      <td>-5.199338</td>\n",
       "      <td>0.465405</td>\n",
       "      <td>-0.132113</td>\n",
       "      <td>5.199338</td>\n",
       "      <td>-5.199338</td>\n",
       "      <td>5.199338</td>\n",
       "      <td>5.199338</td>\n",
       "    </tr>\n",
       "    <tr>\n",
       "      <th>2</th>\n",
       "      <td>-0.532190</td>\n",
       "      <td>-5.199338</td>\n",
       "      <td>5.199338</td>\n",
       "      <td>-0.132113</td>\n",
       "      <td>5.199338</td>\n",
       "      <td>0.583496</td>\n",
       "      <td>-5.199338</td>\n",
       "      <td>5.199338</td>\n",
       "    </tr>\n",
       "    <tr>\n",
       "      <th>3</th>\n",
       "      <td>0.300542</td>\n",
       "      <td>-5.199338</td>\n",
       "      <td>5.199338</td>\n",
       "      <td>-5.199338</td>\n",
       "      <td>5.199338</td>\n",
       "      <td>0.583496</td>\n",
       "      <td>5.199338</td>\n",
       "      <td>5.199338</td>\n",
       "    </tr>\n",
       "    <tr>\n",
       "      <th>4</th>\n",
       "      <td>-0.092972</td>\n",
       "      <td>-5.199338</td>\n",
       "      <td>5.199338</td>\n",
       "      <td>-0.689529</td>\n",
       "      <td>5.199338</td>\n",
       "      <td>-5.199338</td>\n",
       "      <td>5.199338</td>\n",
       "      <td>-0.196979</td>\n",
       "    </tr>\n",
       "  </tbody>\n",
       "</table>\n",
       "</div>"
      ],
      "text/plain": [
       "        Age    Gender    Income   Vintage  Transaction_Status  \\\n",
       "0 -0.415634 -5.199338 -0.195700  1.061884           -5.199338   \n",
       "1  1.140077 -5.199338  0.465405 -0.132113            5.199338   \n",
       "2 -0.532190 -5.199338  5.199338 -0.132113            5.199338   \n",
       "3  0.300542 -5.199338  5.199338 -5.199338            5.199338   \n",
       "4 -0.092972 -5.199338  5.199338 -0.689529            5.199338   \n",
       "\n",
       "   Product_Holdings  Credit_Card  Credit_Category  \n",
       "0         -5.199338    -5.199338        -5.199338  \n",
       "1         -5.199338     5.199338         5.199338  \n",
       "2          0.583496    -5.199338         5.199338  \n",
       "3          0.583496     5.199338         5.199338  \n",
       "4         -5.199338     5.199338        -0.196979  "
      ]
     },
     "execution_count": 71,
     "metadata": {},
     "output_type": "execute_result"
    }
   ],
   "source": [
    "x = quantile_transformer.fit_transform(x)\n",
    "x = pd.DataFrame(x, columns=column)\n",
    "x.head()"
   ]
  },
  {
   "cell_type": "code",
   "execution_count": 72,
   "id": "54272279",
   "metadata": {},
   "outputs": [
    {
     "data": {
      "text/html": [
       "<div>\n",
       "<style scoped>\n",
       "    .dataframe tbody tr th:only-of-type {\n",
       "        vertical-align: middle;\n",
       "    }\n",
       "\n",
       "    .dataframe tbody tr th {\n",
       "        vertical-align: top;\n",
       "    }\n",
       "\n",
       "    .dataframe thead th {\n",
       "        text-align: right;\n",
       "    }\n",
       "</style>\n",
       "<table border=\"1\" class=\"dataframe\">\n",
       "  <thead>\n",
       "    <tr style=\"text-align: right;\">\n",
       "      <th></th>\n",
       "      <th>Age</th>\n",
       "      <th>Gender</th>\n",
       "      <th>Income</th>\n",
       "      <th>Vintage</th>\n",
       "      <th>Transaction_Status</th>\n",
       "      <th>Product_Holdings</th>\n",
       "      <th>Credit_Card</th>\n",
       "      <th>Credit_Category</th>\n",
       "    </tr>\n",
       "  </thead>\n",
       "  <tbody>\n",
       "    <tr>\n",
       "      <th>0</th>\n",
       "      <td>0.897655</td>\n",
       "      <td>-5.199338</td>\n",
       "      <td>5.199338</td>\n",
       "      <td>-0.114415</td>\n",
       "      <td>5.199338</td>\n",
       "      <td>0.551076</td>\n",
       "      <td>5.199338</td>\n",
       "      <td>-5.199338</td>\n",
       "    </tr>\n",
       "    <tr>\n",
       "      <th>1</th>\n",
       "      <td>-0.433482</td>\n",
       "      <td>5.199338</td>\n",
       "      <td>-0.163824</td>\n",
       "      <td>-0.114415</td>\n",
       "      <td>-5.199338</td>\n",
       "      <td>0.551076</td>\n",
       "      <td>5.199338</td>\n",
       "      <td>-5.199338</td>\n",
       "    </tr>\n",
       "    <tr>\n",
       "      <th>2</th>\n",
       "      <td>-2.273052</td>\n",
       "      <td>-5.199338</td>\n",
       "      <td>-5.199338</td>\n",
       "      <td>-5.199338</td>\n",
       "      <td>-5.199338</td>\n",
       "      <td>0.551076</td>\n",
       "      <td>5.199338</td>\n",
       "      <td>-0.179102</td>\n",
       "    </tr>\n",
       "    <tr>\n",
       "      <th>3</th>\n",
       "      <td>0.096753</td>\n",
       "      <td>5.199338</td>\n",
       "      <td>0.490721</td>\n",
       "      <td>-5.199338</td>\n",
       "      <td>5.199338</td>\n",
       "      <td>0.551076</td>\n",
       "      <td>5.199338</td>\n",
       "      <td>5.199338</td>\n",
       "    </tr>\n",
       "    <tr>\n",
       "      <th>4</th>\n",
       "      <td>0.718462</td>\n",
       "      <td>5.199338</td>\n",
       "      <td>5.199338</td>\n",
       "      <td>-0.114415</td>\n",
       "      <td>5.199338</td>\n",
       "      <td>5.199338</td>\n",
       "      <td>-5.199338</td>\n",
       "      <td>-0.179102</td>\n",
       "    </tr>\n",
       "  </tbody>\n",
       "</table>\n",
       "</div>"
      ],
      "text/plain": [
       "        Age    Gender    Income   Vintage  Transaction_Status  \\\n",
       "0  0.897655 -5.199338  5.199338 -0.114415            5.199338   \n",
       "1 -0.433482  5.199338 -0.163824 -0.114415           -5.199338   \n",
       "2 -2.273052 -5.199338 -5.199338 -5.199338           -5.199338   \n",
       "3  0.096753  5.199338  0.490721 -5.199338            5.199338   \n",
       "4  0.718462  5.199338  5.199338 -0.114415            5.199338   \n",
       "\n",
       "   Product_Holdings  Credit_Card  Credit_Category  \n",
       "0          0.551076     5.199338        -5.199338  \n",
       "1          0.551076     5.199338        -5.199338  \n",
       "2          0.551076     5.199338        -0.179102  \n",
       "3          0.551076     5.199338         5.199338  \n",
       "4          5.199338    -5.199338        -0.179102  "
      ]
     },
     "execution_count": 72,
     "metadata": {},
     "output_type": "execute_result"
    }
   ],
   "source": [
    "data_test = quantile_transformer.fit_transform(data_test)\n",
    "data_test = pd.DataFrame(data_test, columns=column)\n",
    "data_test.head()"
   ]
  },
  {
   "cell_type": "markdown",
   "id": "7adc1e94",
   "metadata": {},
   "source": [
    "# Polynomia Interation"
   ]
  },
  {
   "cell_type": "code",
   "execution_count": 73,
   "id": "2e1f3c6e",
   "metadata": {},
   "outputs": [
    {
     "data": {
      "text/html": [
       "<div>\n",
       "<style scoped>\n",
       "    .dataframe tbody tr th:only-of-type {\n",
       "        vertical-align: middle;\n",
       "    }\n",
       "\n",
       "    .dataframe tbody tr th {\n",
       "        vertical-align: top;\n",
       "    }\n",
       "\n",
       "    .dataframe thead th {\n",
       "        text-align: right;\n",
       "    }\n",
       "</style>\n",
       "<table border=\"1\" class=\"dataframe\">\n",
       "  <thead>\n",
       "    <tr style=\"text-align: right;\">\n",
       "      <th></th>\n",
       "      <th>0</th>\n",
       "      <th>1</th>\n",
       "      <th>2</th>\n",
       "      <th>3</th>\n",
       "      <th>4</th>\n",
       "      <th>5</th>\n",
       "      <th>6</th>\n",
       "      <th>7</th>\n",
       "      <th>8</th>\n",
       "      <th>9</th>\n",
       "      <th>...</th>\n",
       "      <th>35</th>\n",
       "      <th>36</th>\n",
       "      <th>37</th>\n",
       "      <th>38</th>\n",
       "      <th>39</th>\n",
       "      <th>40</th>\n",
       "      <th>41</th>\n",
       "      <th>42</th>\n",
       "      <th>43</th>\n",
       "      <th>44</th>\n",
       "    </tr>\n",
       "  </thead>\n",
       "  <tbody>\n",
       "    <tr>\n",
       "      <th>0</th>\n",
       "      <td>1.0</td>\n",
       "      <td>-0.415634</td>\n",
       "      <td>-5.199338</td>\n",
       "      <td>-0.195700</td>\n",
       "      <td>1.061884</td>\n",
       "      <td>-5.199338</td>\n",
       "      <td>-5.199338</td>\n",
       "      <td>-5.199338</td>\n",
       "      <td>-5.199338</td>\n",
       "      <td>0.172752</td>\n",
       "      <td>...</td>\n",
       "      <td>27.033111</td>\n",
       "      <td>27.033111</td>\n",
       "      <td>27.033111</td>\n",
       "      <td>27.033111</td>\n",
       "      <td>27.033111</td>\n",
       "      <td>27.033111</td>\n",
       "      <td>27.033111</td>\n",
       "      <td>27.033111</td>\n",
       "      <td>27.033111</td>\n",
       "      <td>27.033111</td>\n",
       "    </tr>\n",
       "    <tr>\n",
       "      <th>1</th>\n",
       "      <td>1.0</td>\n",
       "      <td>1.140077</td>\n",
       "      <td>-5.199338</td>\n",
       "      <td>0.465405</td>\n",
       "      <td>-0.132113</td>\n",
       "      <td>5.199338</td>\n",
       "      <td>-5.199338</td>\n",
       "      <td>5.199338</td>\n",
       "      <td>5.199338</td>\n",
       "      <td>1.299775</td>\n",
       "      <td>...</td>\n",
       "      <td>27.033111</td>\n",
       "      <td>-27.033111</td>\n",
       "      <td>27.033111</td>\n",
       "      <td>27.033111</td>\n",
       "      <td>27.033111</td>\n",
       "      <td>-27.033111</td>\n",
       "      <td>-27.033111</td>\n",
       "      <td>27.033111</td>\n",
       "      <td>27.033111</td>\n",
       "      <td>27.033111</td>\n",
       "    </tr>\n",
       "    <tr>\n",
       "      <th>2</th>\n",
       "      <td>1.0</td>\n",
       "      <td>-0.532190</td>\n",
       "      <td>-5.199338</td>\n",
       "      <td>5.199338</td>\n",
       "      <td>-0.132113</td>\n",
       "      <td>5.199338</td>\n",
       "      <td>0.583496</td>\n",
       "      <td>-5.199338</td>\n",
       "      <td>5.199338</td>\n",
       "      <td>0.283226</td>\n",
       "      <td>...</td>\n",
       "      <td>27.033111</td>\n",
       "      <td>3.033792</td>\n",
       "      <td>-27.033111</td>\n",
       "      <td>27.033111</td>\n",
       "      <td>0.340467</td>\n",
       "      <td>-3.033792</td>\n",
       "      <td>3.033792</td>\n",
       "      <td>27.033111</td>\n",
       "      <td>-27.033111</td>\n",
       "      <td>27.033111</td>\n",
       "    </tr>\n",
       "    <tr>\n",
       "      <th>3</th>\n",
       "      <td>1.0</td>\n",
       "      <td>0.300542</td>\n",
       "      <td>-5.199338</td>\n",
       "      <td>5.199338</td>\n",
       "      <td>-5.199338</td>\n",
       "      <td>5.199338</td>\n",
       "      <td>0.583496</td>\n",
       "      <td>5.199338</td>\n",
       "      <td>5.199338</td>\n",
       "      <td>0.090325</td>\n",
       "      <td>...</td>\n",
       "      <td>27.033111</td>\n",
       "      <td>3.033792</td>\n",
       "      <td>27.033111</td>\n",
       "      <td>27.033111</td>\n",
       "      <td>0.340467</td>\n",
       "      <td>3.033792</td>\n",
       "      <td>3.033792</td>\n",
       "      <td>27.033111</td>\n",
       "      <td>27.033111</td>\n",
       "      <td>27.033111</td>\n",
       "    </tr>\n",
       "    <tr>\n",
       "      <th>4</th>\n",
       "      <td>1.0</td>\n",
       "      <td>-0.092972</td>\n",
       "      <td>-5.199338</td>\n",
       "      <td>5.199338</td>\n",
       "      <td>-0.689529</td>\n",
       "      <td>5.199338</td>\n",
       "      <td>-5.199338</td>\n",
       "      <td>5.199338</td>\n",
       "      <td>-0.196979</td>\n",
       "      <td>0.008644</td>\n",
       "      <td>...</td>\n",
       "      <td>27.033111</td>\n",
       "      <td>-27.033111</td>\n",
       "      <td>27.033111</td>\n",
       "      <td>-1.024161</td>\n",
       "      <td>27.033111</td>\n",
       "      <td>-27.033111</td>\n",
       "      <td>1.024161</td>\n",
       "      <td>27.033111</td>\n",
       "      <td>-1.024161</td>\n",
       "      <td>0.038801</td>\n",
       "    </tr>\n",
       "  </tbody>\n",
       "</table>\n",
       "<p>5 rows × 45 columns</p>\n",
       "</div>"
      ],
      "text/plain": [
       "    0         1         2         3         4         5         6         7   \\\n",
       "0  1.0 -0.415634 -5.199338 -0.195700  1.061884 -5.199338 -5.199338 -5.199338   \n",
       "1  1.0  1.140077 -5.199338  0.465405 -0.132113  5.199338 -5.199338  5.199338   \n",
       "2  1.0 -0.532190 -5.199338  5.199338 -0.132113  5.199338  0.583496 -5.199338   \n",
       "3  1.0  0.300542 -5.199338  5.199338 -5.199338  5.199338  0.583496  5.199338   \n",
       "4  1.0 -0.092972 -5.199338  5.199338 -0.689529  5.199338 -5.199338  5.199338   \n",
       "\n",
       "         8         9   ...         35         36         37         38  \\\n",
       "0 -5.199338  0.172752  ...  27.033111  27.033111  27.033111  27.033111   \n",
       "1  5.199338  1.299775  ...  27.033111 -27.033111  27.033111  27.033111   \n",
       "2  5.199338  0.283226  ...  27.033111   3.033792 -27.033111  27.033111   \n",
       "3  5.199338  0.090325  ...  27.033111   3.033792  27.033111  27.033111   \n",
       "4 -0.196979  0.008644  ...  27.033111 -27.033111  27.033111  -1.024161   \n",
       "\n",
       "          39         40         41         42         43         44  \n",
       "0  27.033111  27.033111  27.033111  27.033111  27.033111  27.033111  \n",
       "1  27.033111 -27.033111 -27.033111  27.033111  27.033111  27.033111  \n",
       "2   0.340467  -3.033792   3.033792  27.033111 -27.033111  27.033111  \n",
       "3   0.340467   3.033792   3.033792  27.033111  27.033111  27.033111  \n",
       "4  27.033111 -27.033111   1.024161  27.033111  -1.024161   0.038801  \n",
       "\n",
       "[5 rows x 45 columns]"
      ]
     },
     "execution_count": 73,
     "metadata": {},
     "output_type": "execute_result"
    }
   ],
   "source": [
    "from sklearn.preprocessing import PolynomialFeatures\n",
    "\n",
    "x = PolynomialFeatures(degree=2).fit_transform(x)\n",
    "x = pd.DataFrame(x)\n",
    "x.head()"
   ]
  },
  {
   "cell_type": "code",
   "execution_count": 74,
   "id": "371b6817",
   "metadata": {},
   "outputs": [
    {
     "data": {
      "text/html": [
       "<div>\n",
       "<style scoped>\n",
       "    .dataframe tbody tr th:only-of-type {\n",
       "        vertical-align: middle;\n",
       "    }\n",
       "\n",
       "    .dataframe tbody tr th {\n",
       "        vertical-align: top;\n",
       "    }\n",
       "\n",
       "    .dataframe thead th {\n",
       "        text-align: right;\n",
       "    }\n",
       "</style>\n",
       "<table border=\"1\" class=\"dataframe\">\n",
       "  <thead>\n",
       "    <tr style=\"text-align: right;\">\n",
       "      <th></th>\n",
       "      <th>0</th>\n",
       "      <th>1</th>\n",
       "      <th>2</th>\n",
       "      <th>3</th>\n",
       "      <th>4</th>\n",
       "      <th>5</th>\n",
       "      <th>6</th>\n",
       "      <th>7</th>\n",
       "      <th>8</th>\n",
       "      <th>9</th>\n",
       "      <th>...</th>\n",
       "      <th>35</th>\n",
       "      <th>36</th>\n",
       "      <th>37</th>\n",
       "      <th>38</th>\n",
       "      <th>39</th>\n",
       "      <th>40</th>\n",
       "      <th>41</th>\n",
       "      <th>42</th>\n",
       "      <th>43</th>\n",
       "      <th>44</th>\n",
       "    </tr>\n",
       "  </thead>\n",
       "  <tbody>\n",
       "    <tr>\n",
       "      <th>0</th>\n",
       "      <td>1.0</td>\n",
       "      <td>0.897655</td>\n",
       "      <td>-5.199338</td>\n",
       "      <td>5.199338</td>\n",
       "      <td>-0.114415</td>\n",
       "      <td>5.199338</td>\n",
       "      <td>0.551076</td>\n",
       "      <td>5.199338</td>\n",
       "      <td>-5.199338</td>\n",
       "      <td>0.805785</td>\n",
       "      <td>...</td>\n",
       "      <td>27.033111</td>\n",
       "      <td>2.865230</td>\n",
       "      <td>27.033111</td>\n",
       "      <td>-27.033111</td>\n",
       "      <td>0.303685</td>\n",
       "      <td>2.865230</td>\n",
       "      <td>-2.865230</td>\n",
       "      <td>27.033111</td>\n",
       "      <td>-27.033111</td>\n",
       "      <td>27.033111</td>\n",
       "    </tr>\n",
       "    <tr>\n",
       "      <th>1</th>\n",
       "      <td>1.0</td>\n",
       "      <td>-0.433482</td>\n",
       "      <td>5.199338</td>\n",
       "      <td>-0.163824</td>\n",
       "      <td>-0.114415</td>\n",
       "      <td>-5.199338</td>\n",
       "      <td>0.551076</td>\n",
       "      <td>5.199338</td>\n",
       "      <td>-5.199338</td>\n",
       "      <td>0.187907</td>\n",
       "      <td>...</td>\n",
       "      <td>27.033111</td>\n",
       "      <td>-2.865230</td>\n",
       "      <td>-27.033111</td>\n",
       "      <td>27.033111</td>\n",
       "      <td>0.303685</td>\n",
       "      <td>2.865230</td>\n",
       "      <td>-2.865230</td>\n",
       "      <td>27.033111</td>\n",
       "      <td>-27.033111</td>\n",
       "      <td>27.033111</td>\n",
       "    </tr>\n",
       "    <tr>\n",
       "      <th>2</th>\n",
       "      <td>1.0</td>\n",
       "      <td>-2.273052</td>\n",
       "      <td>-5.199338</td>\n",
       "      <td>-5.199338</td>\n",
       "      <td>-5.199338</td>\n",
       "      <td>-5.199338</td>\n",
       "      <td>0.551076</td>\n",
       "      <td>5.199338</td>\n",
       "      <td>-0.179102</td>\n",
       "      <td>5.166767</td>\n",
       "      <td>...</td>\n",
       "      <td>27.033111</td>\n",
       "      <td>-2.865230</td>\n",
       "      <td>-27.033111</td>\n",
       "      <td>0.931210</td>\n",
       "      <td>0.303685</td>\n",
       "      <td>2.865230</td>\n",
       "      <td>-0.098699</td>\n",
       "      <td>27.033111</td>\n",
       "      <td>-0.931210</td>\n",
       "      <td>0.032077</td>\n",
       "    </tr>\n",
       "    <tr>\n",
       "      <th>3</th>\n",
       "      <td>1.0</td>\n",
       "      <td>0.096753</td>\n",
       "      <td>5.199338</td>\n",
       "      <td>0.490721</td>\n",
       "      <td>-5.199338</td>\n",
       "      <td>5.199338</td>\n",
       "      <td>0.551076</td>\n",
       "      <td>5.199338</td>\n",
       "      <td>5.199338</td>\n",
       "      <td>0.009361</td>\n",
       "      <td>...</td>\n",
       "      <td>27.033111</td>\n",
       "      <td>2.865230</td>\n",
       "      <td>27.033111</td>\n",
       "      <td>27.033111</td>\n",
       "      <td>0.303685</td>\n",
       "      <td>2.865230</td>\n",
       "      <td>2.865230</td>\n",
       "      <td>27.033111</td>\n",
       "      <td>27.033111</td>\n",
       "      <td>27.033111</td>\n",
       "    </tr>\n",
       "    <tr>\n",
       "      <th>4</th>\n",
       "      <td>1.0</td>\n",
       "      <td>0.718462</td>\n",
       "      <td>5.199338</td>\n",
       "      <td>5.199338</td>\n",
       "      <td>-0.114415</td>\n",
       "      <td>5.199338</td>\n",
       "      <td>5.199338</td>\n",
       "      <td>-5.199338</td>\n",
       "      <td>-0.179102</td>\n",
       "      <td>0.516188</td>\n",
       "      <td>...</td>\n",
       "      <td>27.033111</td>\n",
       "      <td>27.033111</td>\n",
       "      <td>-27.033111</td>\n",
       "      <td>-0.931210</td>\n",
       "      <td>27.033111</td>\n",
       "      <td>-27.033111</td>\n",
       "      <td>-0.931210</td>\n",
       "      <td>27.033111</td>\n",
       "      <td>0.931210</td>\n",
       "      <td>0.032077</td>\n",
       "    </tr>\n",
       "  </tbody>\n",
       "</table>\n",
       "<p>5 rows × 45 columns</p>\n",
       "</div>"
      ],
      "text/plain": [
       "    0         1         2         3         4         5         6         7   \\\n",
       "0  1.0  0.897655 -5.199338  5.199338 -0.114415  5.199338  0.551076  5.199338   \n",
       "1  1.0 -0.433482  5.199338 -0.163824 -0.114415 -5.199338  0.551076  5.199338   \n",
       "2  1.0 -2.273052 -5.199338 -5.199338 -5.199338 -5.199338  0.551076  5.199338   \n",
       "3  1.0  0.096753  5.199338  0.490721 -5.199338  5.199338  0.551076  5.199338   \n",
       "4  1.0  0.718462  5.199338  5.199338 -0.114415  5.199338  5.199338 -5.199338   \n",
       "\n",
       "         8         9   ...         35         36         37         38  \\\n",
       "0 -5.199338  0.805785  ...  27.033111   2.865230  27.033111 -27.033111   \n",
       "1 -5.199338  0.187907  ...  27.033111  -2.865230 -27.033111  27.033111   \n",
       "2 -0.179102  5.166767  ...  27.033111  -2.865230 -27.033111   0.931210   \n",
       "3  5.199338  0.009361  ...  27.033111   2.865230  27.033111  27.033111   \n",
       "4 -0.179102  0.516188  ...  27.033111  27.033111 -27.033111  -0.931210   \n",
       "\n",
       "          39         40        41         42         43         44  \n",
       "0   0.303685   2.865230 -2.865230  27.033111 -27.033111  27.033111  \n",
       "1   0.303685   2.865230 -2.865230  27.033111 -27.033111  27.033111  \n",
       "2   0.303685   2.865230 -0.098699  27.033111  -0.931210   0.032077  \n",
       "3   0.303685   2.865230  2.865230  27.033111  27.033111  27.033111  \n",
       "4  27.033111 -27.033111 -0.931210  27.033111   0.931210   0.032077  \n",
       "\n",
       "[5 rows x 45 columns]"
      ]
     },
     "execution_count": 74,
     "metadata": {},
     "output_type": "execute_result"
    }
   ],
   "source": [
    "data_test = PolynomialFeatures(degree=2).fit_transform(data_test)\n",
    "data_test = pd.DataFrame(data_test)\n",
    "data_test.head()"
   ]
  },
  {
   "cell_type": "markdown",
   "id": "714cfbc7",
   "metadata": {},
   "source": [
    "# Building Model on normalised and trasformed data using KFold Cross Validation¶\n",
    "# Random Forest"
   ]
  },
  {
   "cell_type": "code",
   "execution_count": 80,
   "id": "85c8f92b",
   "metadata": {},
   "outputs": [
    {
     "name": "stderr",
     "output_type": "stream",
     "text": [
      "/var/folders/jn/b50t2m9547g_v10vf9vqqk_40000gp/T/ipykernel_13788/3648767410.py:15: DataConversionWarning: A column-vector y was passed when a 1d array was expected. Please change the shape of y to (n_samples,), for example using ravel().\n",
      "  model_RF.fit(x_train, y_train)\n",
      "/var/folders/jn/b50t2m9547g_v10vf9vqqk_40000gp/T/ipykernel_13788/3648767410.py:15: DataConversionWarning: A column-vector y was passed when a 1d array was expected. Please change the shape of y to (n_samples,), for example using ravel().\n",
      "  model_RF.fit(x_train, y_train)\n",
      "/var/folders/jn/b50t2m9547g_v10vf9vqqk_40000gp/T/ipykernel_13788/3648767410.py:15: DataConversionWarning: A column-vector y was passed when a 1d array was expected. Please change the shape of y to (n_samples,), for example using ravel().\n",
      "  model_RF.fit(x_train, y_train)\n",
      "/var/folders/jn/b50t2m9547g_v10vf9vqqk_40000gp/T/ipykernel_13788/3648767410.py:15: DataConversionWarning: A column-vector y was passed when a 1d array was expected. Please change the shape of y to (n_samples,), for example using ravel().\n",
      "  model_RF.fit(x_train, y_train)\n",
      "/var/folders/jn/b50t2m9547g_v10vf9vqqk_40000gp/T/ipykernel_13788/3648767410.py:15: DataConversionWarning: A column-vector y was passed when a 1d array was expected. Please change the shape of y to (n_samples,), for example using ravel().\n",
      "  model_RF.fit(x_train, y_train)\n"
     ]
    }
   ],
   "source": [
    "from sklearn.ensemble import RandomForestClassifier\n",
    "from sklearn.model_selection import KFold, cross_validate\n",
    "from sklearn.metrics import accuracy_score, f1_score\n",
    "\n",
    "k = 5\n",
    "kf = KFold(n_splits=k, random_state=None)\n",
    "model_RF = RandomForestClassifier()\n",
    "acc_score = []\n",
    "f1_macro = []\n",
    "\n",
    "for train_index, test_index in kf.split(x):\n",
    "    x_train , x_test = x.iloc[train_index,:], x.iloc[test_index,:]\n",
    "    y_train , y_test = y.iloc[train_index,:], y.iloc[test_index,:]\n",
    "    \n",
    "    model_RF.fit(x_train, y_train)\n",
    "    y_pred = model_RF.predict(x_test)\n",
    "    \n",
    "    acc_score.append(accuracy_score(y_pred, y_test))\n",
    "    f1_macro.append(f1_score(y_test, y_pred, average='macro'))"
   ]
  },
  {
   "cell_type": "code",
   "execution_count": 81,
   "id": "8d19cdc0",
   "metadata": {},
   "outputs": [
    {
     "name": "stdout",
     "output_type": "stream",
     "text": [
      "accuracy of each fold - [0.7368421052631579, 0.7263157894736842, 0.7225563909774436, 0.7150375939849624, 0.7398496240601504]\n",
      "Avg accuracy : 0.7281203007518797\n",
      "f1_macro of each fold - [0.5234438984438985, 0.5248806607625149, 0.5003008763596709, 0.5078071067080286, 0.5254232393901392]\n",
      "Avg f1_macro : 0.5163711563328505\n"
     ]
    }
   ],
   "source": [
    "avg_acc_score = sum(acc_score)/k\n",
    "print('accuracy of each fold - {}'.format(acc_score))\n",
    "print('Avg accuracy : {}'.format(avg_acc_score))\n",
    "\n",
    "\n",
    "avr_f1_macro_score = sum(f1_macro)/k\n",
    "print('f1_macro of each fold - {}'.format(f1_macro))\n",
    "print('Avg f1_macro : {}'.format(avr_f1_macro_score))"
   ]
  },
  {
   "cell_type": "code",
   "execution_count": 78,
   "id": "592bdb95",
   "metadata": {},
   "outputs": [
    {
     "data": {
      "text/plain": [
       "array([0, 0, 0, ..., 0, 0, 1])"
      ]
     },
     "execution_count": 78,
     "metadata": {},
     "output_type": "execute_result"
    }
   ],
   "source": [
    "y_pred_unseen = model_RF.predict(data_test)\n",
    "y_pred_unseen"
   ]
  },
  {
   "cell_type": "code",
   "execution_count": 79,
   "id": "1e8fecbb",
   "metadata": {},
   "outputs": [
    {
     "data": {
      "text/html": [
       "<div>\n",
       "<style scoped>\n",
       "    .dataframe tbody tr th:only-of-type {\n",
       "        vertical-align: middle;\n",
       "    }\n",
       "\n",
       "    .dataframe tbody tr th {\n",
       "        vertical-align: top;\n",
       "    }\n",
       "\n",
       "    .dataframe thead th {\n",
       "        text-align: right;\n",
       "    }\n",
       "</style>\n",
       "<table border=\"1\" class=\"dataframe\">\n",
       "  <thead>\n",
       "    <tr style=\"text-align: right;\">\n",
       "      <th></th>\n",
       "      <th>ID</th>\n",
       "      <th>Age</th>\n",
       "      <th>Gender</th>\n",
       "      <th>Income</th>\n",
       "      <th>Balance</th>\n",
       "      <th>Vintage</th>\n",
       "      <th>Transaction_Status</th>\n",
       "      <th>Product_Holdings</th>\n",
       "      <th>Credit_Card</th>\n",
       "      <th>Credit_Category</th>\n",
       "      <th>Is_Churn</th>\n",
       "    </tr>\n",
       "  </thead>\n",
       "  <tbody>\n",
       "    <tr>\n",
       "      <th>0</th>\n",
       "      <td>55480787</td>\n",
       "      <td>50</td>\n",
       "      <td>Female</td>\n",
       "      <td>More than 15L</td>\n",
       "      <td>1008636.39</td>\n",
       "      <td>2</td>\n",
       "      <td>1</td>\n",
       "      <td>2</td>\n",
       "      <td>1</td>\n",
       "      <td>Average</td>\n",
       "      <td>0</td>\n",
       "    </tr>\n",
       "    <tr>\n",
       "      <th>1</th>\n",
       "      <td>9aededf2</td>\n",
       "      <td>36</td>\n",
       "      <td>Male</td>\n",
       "      <td>5L - 10L</td>\n",
       "      <td>341460.72</td>\n",
       "      <td>2</td>\n",
       "      <td>0</td>\n",
       "      <td>2</td>\n",
       "      <td>1</td>\n",
       "      <td>Average</td>\n",
       "      <td>0</td>\n",
       "    </tr>\n",
       "    <tr>\n",
       "      <th>2</th>\n",
       "      <td>a5034a09</td>\n",
       "      <td>25</td>\n",
       "      <td>Female</td>\n",
       "      <td>10L - 15L</td>\n",
       "      <td>439460.10</td>\n",
       "      <td>0</td>\n",
       "      <td>0</td>\n",
       "      <td>2</td>\n",
       "      <td>1</td>\n",
       "      <td>Good</td>\n",
       "      <td>0</td>\n",
       "    </tr>\n",
       "    <tr>\n",
       "      <th>3</th>\n",
       "      <td>b3256702</td>\n",
       "      <td>41</td>\n",
       "      <td>Male</td>\n",
       "      <td>Less than 5L</td>\n",
       "      <td>28581.93</td>\n",
       "      <td>0</td>\n",
       "      <td>1</td>\n",
       "      <td>2</td>\n",
       "      <td>1</td>\n",
       "      <td>Poor</td>\n",
       "      <td>0</td>\n",
       "    </tr>\n",
       "    <tr>\n",
       "      <th>4</th>\n",
       "      <td>dc28adb5</td>\n",
       "      <td>48</td>\n",
       "      <td>Male</td>\n",
       "      <td>More than 15L</td>\n",
       "      <td>1104540.03</td>\n",
       "      <td>2</td>\n",
       "      <td>1</td>\n",
       "      <td>3+</td>\n",
       "      <td>0</td>\n",
       "      <td>Good</td>\n",
       "      <td>0</td>\n",
       "    </tr>\n",
       "  </tbody>\n",
       "</table>\n",
       "</div>"
      ],
      "text/plain": [
       "         ID  Age  Gender         Income     Balance  Vintage  \\\n",
       "0  55480787   50  Female  More than 15L  1008636.39        2   \n",
       "1  9aededf2   36    Male       5L - 10L   341460.72        2   \n",
       "2  a5034a09   25  Female      10L - 15L   439460.10        0   \n",
       "3  b3256702   41    Male   Less than 5L    28581.93        0   \n",
       "4  dc28adb5   48    Male  More than 15L  1104540.03        2   \n",
       "\n",
       "   Transaction_Status Product_Holdings  Credit_Card Credit_Category  Is_Churn  \n",
       "0                   1                2            1         Average         0  \n",
       "1                   0                2            1         Average         0  \n",
       "2                   0                2            1            Good         0  \n",
       "3                   1                2            1            Poor         0  \n",
       "4                   1               3+            0            Good         0  "
      ]
     },
     "execution_count": 79,
     "metadata": {},
     "output_type": "execute_result"
    }
   ],
   "source": [
    "data_unseen = pd.read_csv('test_lTY72QC.csv')\n",
    "data_unseen['Is_Churn'] = y_pred_unseen\n",
    "data_unseen.head()"
   ]
  },
  {
   "cell_type": "markdown",
   "id": "ed68b1e7",
   "metadata": {},
   "source": [
    "# Building Model on normalised and trasformed data using KFold Cross Validation¶\n",
    "# Naive Bayes"
   ]
  },
  {
   "cell_type": "code",
   "execution_count": 84,
   "id": "c43d887a",
   "metadata": {},
   "outputs": [
    {
     "name": "stderr",
     "output_type": "stream",
     "text": [
      "/Users/deepthi/opt/anaconda3/lib/python3.9/site-packages/sklearn/utils/validation.py:993: DataConversionWarning: A column-vector y was passed when a 1d array was expected. Please change the shape of y to (n_samples, ), for example using ravel().\n",
      "  y = column_or_1d(y, warn=True)\n",
      "/Users/deepthi/opt/anaconda3/lib/python3.9/site-packages/sklearn/utils/validation.py:993: DataConversionWarning: A column-vector y was passed when a 1d array was expected. Please change the shape of y to (n_samples, ), for example using ravel().\n",
      "  y = column_or_1d(y, warn=True)\n",
      "/Users/deepthi/opt/anaconda3/lib/python3.9/site-packages/sklearn/utils/validation.py:993: DataConversionWarning: A column-vector y was passed when a 1d array was expected. Please change the shape of y to (n_samples, ), for example using ravel().\n",
      "  y = column_or_1d(y, warn=True)\n",
      "/Users/deepthi/opt/anaconda3/lib/python3.9/site-packages/sklearn/utils/validation.py:993: DataConversionWarning: A column-vector y was passed when a 1d array was expected. Please change the shape of y to (n_samples, ), for example using ravel().\n",
      "  y = column_or_1d(y, warn=True)\n",
      "/Users/deepthi/opt/anaconda3/lib/python3.9/site-packages/sklearn/utils/validation.py:993: DataConversionWarning: A column-vector y was passed when a 1d array was expected. Please change the shape of y to (n_samples, ), for example using ravel().\n",
      "  y = column_or_1d(y, warn=True)\n"
     ]
    }
   ],
   "source": [
    "from sklearn.naive_bayes import GaussianNB\n",
    "from sklearn.model_selection import KFold, cross_validate\n",
    "from sklearn.metrics import accuracy_score, f1_score\n",
    "\n",
    "k = 5\n",
    "kf = KFold(n_splits=k, random_state=None)\n",
    "model_GaussianNB = GaussianNB()\n",
    "acc_score = []\n",
    "f1_macro = []\n",
    "\n",
    "for train_index, test_index in kf.split(x):\n",
    "    x_train , x_test = x.iloc[train_index,:], x.iloc[test_index,:]\n",
    "    y_train , y_test = y.iloc[train_index,:], y.iloc[test_index,:]\n",
    "    \n",
    "    model_GaussianNB.fit(x_train, y_train)\n",
    "    y_pred = model_GaussianNB.predict(x_test)\n",
    "    \n",
    "    acc_score.append(accuracy_score(y_pred, y_test))\n",
    "    f1_macro.append(f1_score(y_test, y_pred, average='macro'))\n",
    "    "
   ]
  },
  {
   "cell_type": "code",
   "execution_count": 85,
   "id": "a45b0618",
   "metadata": {},
   "outputs": [
    {
     "name": "stdout",
     "output_type": "stream",
     "text": [
      "accuracy of each fold - [0.750375939849624, 0.7518796992481203, 0.7473684210526316, 0.7413533834586467, 0.7398496240601504]\n",
      "Avg accuracy : 0.7461654135338346\n",
      "\n",
      "\n",
      "f1_macro of each fold - [0.5621685724371255, 0.566304347826087, 0.5538000087866092, 0.5613405995804395, 0.5573421676362853]\n",
      "Avg f1_macro : 0.5601911392533093\n"
     ]
    }
   ],
   "source": [
    "avg_acc_score = sum(acc_score)/k\n",
    "print('accuracy of each fold - {}'.format(acc_score))\n",
    "print('Avg accuracy : {}'.format(avg_acc_score))\n",
    "print('\\n')\n",
    "avr_f1_macro_score = sum(f1_macro)/k\n",
    "print('f1_macro of each fold - {}'.format(f1_macro))\n",
    "print('Avg f1_macro : {}'.format(avr_f1_macro_score))"
   ]
  },
  {
   "cell_type": "code",
   "execution_count": 86,
   "id": "59b7a8f9",
   "metadata": {},
   "outputs": [
    {
     "data": {
      "text/plain": [
       "array([0, 0, 0, ..., 0, 0, 1])"
      ]
     },
     "execution_count": 86,
     "metadata": {},
     "output_type": "execute_result"
    }
   ],
   "source": [
    "y_pred_unseen = model_RF.predict(data_test)\n",
    "y_pred_unseen"
   ]
  },
  {
   "cell_type": "code",
   "execution_count": 87,
   "id": "e2871c70",
   "metadata": {},
   "outputs": [
    {
     "data": {
      "text/html": [
       "<div>\n",
       "<style scoped>\n",
       "    .dataframe tbody tr th:only-of-type {\n",
       "        vertical-align: middle;\n",
       "    }\n",
       "\n",
       "    .dataframe tbody tr th {\n",
       "        vertical-align: top;\n",
       "    }\n",
       "\n",
       "    .dataframe thead th {\n",
       "        text-align: right;\n",
       "    }\n",
       "</style>\n",
       "<table border=\"1\" class=\"dataframe\">\n",
       "  <thead>\n",
       "    <tr style=\"text-align: right;\">\n",
       "      <th></th>\n",
       "      <th>ID</th>\n",
       "      <th>Age</th>\n",
       "      <th>Gender</th>\n",
       "      <th>Income</th>\n",
       "      <th>Balance</th>\n",
       "      <th>Vintage</th>\n",
       "      <th>Transaction_Status</th>\n",
       "      <th>Product_Holdings</th>\n",
       "      <th>Credit_Card</th>\n",
       "      <th>Credit_Category</th>\n",
       "      <th>Is_Churn</th>\n",
       "    </tr>\n",
       "  </thead>\n",
       "  <tbody>\n",
       "    <tr>\n",
       "      <th>0</th>\n",
       "      <td>55480787</td>\n",
       "      <td>50</td>\n",
       "      <td>Female</td>\n",
       "      <td>More than 15L</td>\n",
       "      <td>1008636.39</td>\n",
       "      <td>2</td>\n",
       "      <td>1</td>\n",
       "      <td>2</td>\n",
       "      <td>1</td>\n",
       "      <td>Average</td>\n",
       "      <td>0</td>\n",
       "    </tr>\n",
       "    <tr>\n",
       "      <th>1</th>\n",
       "      <td>9aededf2</td>\n",
       "      <td>36</td>\n",
       "      <td>Male</td>\n",
       "      <td>5L - 10L</td>\n",
       "      <td>341460.72</td>\n",
       "      <td>2</td>\n",
       "      <td>0</td>\n",
       "      <td>2</td>\n",
       "      <td>1</td>\n",
       "      <td>Average</td>\n",
       "      <td>0</td>\n",
       "    </tr>\n",
       "    <tr>\n",
       "      <th>2</th>\n",
       "      <td>a5034a09</td>\n",
       "      <td>25</td>\n",
       "      <td>Female</td>\n",
       "      <td>10L - 15L</td>\n",
       "      <td>439460.10</td>\n",
       "      <td>0</td>\n",
       "      <td>0</td>\n",
       "      <td>2</td>\n",
       "      <td>1</td>\n",
       "      <td>Good</td>\n",
       "      <td>0</td>\n",
       "    </tr>\n",
       "    <tr>\n",
       "      <th>3</th>\n",
       "      <td>b3256702</td>\n",
       "      <td>41</td>\n",
       "      <td>Male</td>\n",
       "      <td>Less than 5L</td>\n",
       "      <td>28581.93</td>\n",
       "      <td>0</td>\n",
       "      <td>1</td>\n",
       "      <td>2</td>\n",
       "      <td>1</td>\n",
       "      <td>Poor</td>\n",
       "      <td>0</td>\n",
       "    </tr>\n",
       "    <tr>\n",
       "      <th>4</th>\n",
       "      <td>dc28adb5</td>\n",
       "      <td>48</td>\n",
       "      <td>Male</td>\n",
       "      <td>More than 15L</td>\n",
       "      <td>1104540.03</td>\n",
       "      <td>2</td>\n",
       "      <td>1</td>\n",
       "      <td>3+</td>\n",
       "      <td>0</td>\n",
       "      <td>Good</td>\n",
       "      <td>0</td>\n",
       "    </tr>\n",
       "  </tbody>\n",
       "</table>\n",
       "</div>"
      ],
      "text/plain": [
       "         ID  Age  Gender         Income     Balance  Vintage  \\\n",
       "0  55480787   50  Female  More than 15L  1008636.39        2   \n",
       "1  9aededf2   36    Male       5L - 10L   341460.72        2   \n",
       "2  a5034a09   25  Female      10L - 15L   439460.10        0   \n",
       "3  b3256702   41    Male   Less than 5L    28581.93        0   \n",
       "4  dc28adb5   48    Male  More than 15L  1104540.03        2   \n",
       "\n",
       "   Transaction_Status Product_Holdings  Credit_Card Credit_Category  Is_Churn  \n",
       "0                   1                2            1         Average         0  \n",
       "1                   0                2            1         Average         0  \n",
       "2                   0                2            1            Good         0  \n",
       "3                   1                2            1            Poor         0  \n",
       "4                   1               3+            0            Good         0  "
      ]
     },
     "execution_count": 87,
     "metadata": {},
     "output_type": "execute_result"
    }
   ],
   "source": [
    "data_unseen = pd.read_csv('test_lTY72QC.csv')\n",
    "data_unseen['Is_Churn'] = y_pred_unseen\n",
    "data_unseen.head()"
   ]
  },
  {
   "cell_type": "code",
   "execution_count": 91,
   "id": "6ad36eb6",
   "metadata": {},
   "outputs": [],
   "source": [
    "Out_NB_Final = data_unseen[['ID','Is_Churn']]\n",
    "Out_NB_Final.to_csv('Out_NB_Final.csv',index=False)"
   ]
  },
  {
   "cell_type": "markdown",
   "id": "f053e0da",
   "metadata": {},
   "source": [
    "# Building Model on normalised and trasformed data using KFold Cross Validation¶\n",
    "# Decision Tree Classifier"
   ]
  },
  {
   "cell_type": "code",
   "execution_count": 92,
   "id": "97da4fd1",
   "metadata": {},
   "outputs": [],
   "source": [
    "from sklearn.tree import DecisionTreeClassifier\n",
    "from sklearn.model_selection import KFold, cross_validate\n",
    "from sklearn.metrics import accuracy_score, f1_score\n",
    "\n",
    "k = 5\n",
    "kf = KFold(n_splits=k, random_state=None)\n",
    "model_DT = DecisionTreeClassifier() \n",
    "acc_score = []\n",
    "f1_macro = []\n",
    "\n",
    "for train_index, test_index in kf.split(x):\n",
    "    x_train , x_test = x.iloc[train_index,:], x.iloc[test_index,:]\n",
    "    y_train , y_test = y.iloc[train_index,:], y.iloc[test_index,:]\n",
    "    \n",
    "    model_DT.fit(x_train,y_train)\n",
    "    y_pred = model_DT.predict(x_test)\n",
    "    \n",
    "    acc_score.append(accuracy_score(y_pred, y_test))\n",
    "    f1_macro.append(f1_score(y_test, y_pred, average='macro'))\n",
    "    "
   ]
  },
  {
   "cell_type": "code",
   "execution_count": 93,
   "id": "1da091e9",
   "metadata": {},
   "outputs": [
    {
     "name": "stdout",
     "output_type": "stream",
     "text": [
      "accuracy of each fold - [0.6428571428571429, 0.6466165413533834, 0.6631578947368421, 0.6406015037593985, 0.6827067669172933]\n",
      "Avg accuracy : 0.655187969924812\n",
      "\n",
      "\n",
      "f1_macro of each fold - [0.5043896913055792, 0.5133454367668262, 0.5235185925629748, 0.516409254661409, 0.5404405142061737]\n",
      "Avg f1_macro : 0.5196206979005925\n"
     ]
    }
   ],
   "source": [
    "avg_acc_score = sum(acc_score)/k\n",
    "print('accuracy of each fold - {}'.format(acc_score))\n",
    "print('Avg accuracy : {}'.format(avg_acc_score))\n",
    "print('\\n')\n",
    "avr_f1_macro_score = sum(f1_macro)/k\n",
    "print('f1_macro of each fold - {}'.format(f1_macro))\n",
    "print('Avg f1_macro : {}'.format(avr_f1_macro_score))"
   ]
  },
  {
   "cell_type": "code",
   "execution_count": 94,
   "id": "39770458",
   "metadata": {},
   "outputs": [
    {
     "data": {
      "text/html": [
       "<div>\n",
       "<style scoped>\n",
       "    .dataframe tbody tr th:only-of-type {\n",
       "        vertical-align: middle;\n",
       "    }\n",
       "\n",
       "    .dataframe tbody tr th {\n",
       "        vertical-align: top;\n",
       "    }\n",
       "\n",
       "    .dataframe thead th {\n",
       "        text-align: right;\n",
       "    }\n",
       "</style>\n",
       "<table border=\"1\" class=\"dataframe\">\n",
       "  <thead>\n",
       "    <tr style=\"text-align: right;\">\n",
       "      <th></th>\n",
       "      <th>ID</th>\n",
       "      <th>Age</th>\n",
       "      <th>Gender</th>\n",
       "      <th>Income</th>\n",
       "      <th>Balance</th>\n",
       "      <th>Vintage</th>\n",
       "      <th>Transaction_Status</th>\n",
       "      <th>Product_Holdings</th>\n",
       "      <th>Credit_Card</th>\n",
       "      <th>Credit_Category</th>\n",
       "      <th>Is_Churn</th>\n",
       "    </tr>\n",
       "  </thead>\n",
       "  <tbody>\n",
       "    <tr>\n",
       "      <th>0</th>\n",
       "      <td>55480787</td>\n",
       "      <td>50</td>\n",
       "      <td>Female</td>\n",
       "      <td>More than 15L</td>\n",
       "      <td>1008636.39</td>\n",
       "      <td>2</td>\n",
       "      <td>1</td>\n",
       "      <td>2</td>\n",
       "      <td>1</td>\n",
       "      <td>Average</td>\n",
       "      <td>0</td>\n",
       "    </tr>\n",
       "    <tr>\n",
       "      <th>1</th>\n",
       "      <td>9aededf2</td>\n",
       "      <td>36</td>\n",
       "      <td>Male</td>\n",
       "      <td>5L - 10L</td>\n",
       "      <td>341460.72</td>\n",
       "      <td>2</td>\n",
       "      <td>0</td>\n",
       "      <td>2</td>\n",
       "      <td>1</td>\n",
       "      <td>Average</td>\n",
       "      <td>0</td>\n",
       "    </tr>\n",
       "    <tr>\n",
       "      <th>2</th>\n",
       "      <td>a5034a09</td>\n",
       "      <td>25</td>\n",
       "      <td>Female</td>\n",
       "      <td>10L - 15L</td>\n",
       "      <td>439460.10</td>\n",
       "      <td>0</td>\n",
       "      <td>0</td>\n",
       "      <td>2</td>\n",
       "      <td>1</td>\n",
       "      <td>Good</td>\n",
       "      <td>0</td>\n",
       "    </tr>\n",
       "    <tr>\n",
       "      <th>3</th>\n",
       "      <td>b3256702</td>\n",
       "      <td>41</td>\n",
       "      <td>Male</td>\n",
       "      <td>Less than 5L</td>\n",
       "      <td>28581.93</td>\n",
       "      <td>0</td>\n",
       "      <td>1</td>\n",
       "      <td>2</td>\n",
       "      <td>1</td>\n",
       "      <td>Poor</td>\n",
       "      <td>0</td>\n",
       "    </tr>\n",
       "    <tr>\n",
       "      <th>4</th>\n",
       "      <td>dc28adb5</td>\n",
       "      <td>48</td>\n",
       "      <td>Male</td>\n",
       "      <td>More than 15L</td>\n",
       "      <td>1104540.03</td>\n",
       "      <td>2</td>\n",
       "      <td>1</td>\n",
       "      <td>3+</td>\n",
       "      <td>0</td>\n",
       "      <td>Good</td>\n",
       "      <td>0</td>\n",
       "    </tr>\n",
       "  </tbody>\n",
       "</table>\n",
       "</div>"
      ],
      "text/plain": [
       "         ID  Age  Gender         Income     Balance  Vintage  \\\n",
       "0  55480787   50  Female  More than 15L  1008636.39        2   \n",
       "1  9aededf2   36    Male       5L - 10L   341460.72        2   \n",
       "2  a5034a09   25  Female      10L - 15L   439460.10        0   \n",
       "3  b3256702   41    Male   Less than 5L    28581.93        0   \n",
       "4  dc28adb5   48    Male  More than 15L  1104540.03        2   \n",
       "\n",
       "   Transaction_Status Product_Holdings  Credit_Card Credit_Category  Is_Churn  \n",
       "0                   1                2            1         Average         0  \n",
       "1                   0                2            1         Average         0  \n",
       "2                   0                2            1            Good         0  \n",
       "3                   1                2            1            Poor         0  \n",
       "4                   1               3+            0            Good         0  "
      ]
     },
     "execution_count": 94,
     "metadata": {},
     "output_type": "execute_result"
    }
   ],
   "source": [
    "y_pred_unseen = model_RF.predict(data_test)\n",
    "data_unseen = pd.read_csv('test_lTY72QC.csv')\n",
    "data_unseen['Is_Churn'] = y_pred_unseen\n",
    "data_unseen.head()"
   ]
  },
  {
   "cell_type": "code",
   "execution_count": 95,
   "id": "58efce50",
   "metadata": {},
   "outputs": [],
   "source": [
    "Out_TestDT = data_unseen[['ID','Is_Churn']]\n",
    "Out_TestDT.to_csv('Out_TestDT.csv',index=False)"
   ]
  },
  {
   "cell_type": "markdown",
   "id": "c224307b",
   "metadata": {},
   "source": [
    "# Logistic Regression"
   ]
  },
  {
   "cell_type": "code",
   "execution_count": 96,
   "id": "f2d789bb",
   "metadata": {},
   "outputs": [
    {
     "name": "stderr",
     "output_type": "stream",
     "text": [
      "/Users/deepthi/opt/anaconda3/lib/python3.9/site-packages/sklearn/utils/validation.py:993: DataConversionWarning: A column-vector y was passed when a 1d array was expected. Please change the shape of y to (n_samples, ), for example using ravel().\n",
      "  y = column_or_1d(y, warn=True)\n",
      "/Users/deepthi/opt/anaconda3/lib/python3.9/site-packages/sklearn/linear_model/_logistic.py:814: ConvergenceWarning: lbfgs failed to converge (status=1):\n",
      "STOP: TOTAL NO. of ITERATIONS REACHED LIMIT.\n",
      "\n",
      "Increase the number of iterations (max_iter) or scale the data as shown in:\n",
      "    https://scikit-learn.org/stable/modules/preprocessing.html\n",
      "Please also refer to the documentation for alternative solver options:\n",
      "    https://scikit-learn.org/stable/modules/linear_model.html#logistic-regression\n",
      "  n_iter_i = _check_optimize_result(\n",
      "/Users/deepthi/opt/anaconda3/lib/python3.9/site-packages/sklearn/utils/validation.py:993: DataConversionWarning: A column-vector y was passed when a 1d array was expected. Please change the shape of y to (n_samples, ), for example using ravel().\n",
      "  y = column_or_1d(y, warn=True)\n",
      "/Users/deepthi/opt/anaconda3/lib/python3.9/site-packages/sklearn/linear_model/_logistic.py:814: ConvergenceWarning: lbfgs failed to converge (status=1):\n",
      "STOP: TOTAL NO. of ITERATIONS REACHED LIMIT.\n",
      "\n",
      "Increase the number of iterations (max_iter) or scale the data as shown in:\n",
      "    https://scikit-learn.org/stable/modules/preprocessing.html\n",
      "Please also refer to the documentation for alternative solver options:\n",
      "    https://scikit-learn.org/stable/modules/linear_model.html#logistic-regression\n",
      "  n_iter_i = _check_optimize_result(\n",
      "/Users/deepthi/opt/anaconda3/lib/python3.9/site-packages/sklearn/utils/validation.py:993: DataConversionWarning: A column-vector y was passed when a 1d array was expected. Please change the shape of y to (n_samples, ), for example using ravel().\n",
      "  y = column_or_1d(y, warn=True)\n",
      "/Users/deepthi/opt/anaconda3/lib/python3.9/site-packages/sklearn/linear_model/_logistic.py:814: ConvergenceWarning: lbfgs failed to converge (status=1):\n",
      "STOP: TOTAL NO. of ITERATIONS REACHED LIMIT.\n",
      "\n",
      "Increase the number of iterations (max_iter) or scale the data as shown in:\n",
      "    https://scikit-learn.org/stable/modules/preprocessing.html\n",
      "Please also refer to the documentation for alternative solver options:\n",
      "    https://scikit-learn.org/stable/modules/linear_model.html#logistic-regression\n",
      "  n_iter_i = _check_optimize_result(\n",
      "/Users/deepthi/opt/anaconda3/lib/python3.9/site-packages/sklearn/utils/validation.py:993: DataConversionWarning: A column-vector y was passed when a 1d array was expected. Please change the shape of y to (n_samples, ), for example using ravel().\n",
      "  y = column_or_1d(y, warn=True)\n",
      "/Users/deepthi/opt/anaconda3/lib/python3.9/site-packages/sklearn/linear_model/_logistic.py:814: ConvergenceWarning: lbfgs failed to converge (status=1):\n",
      "STOP: TOTAL NO. of ITERATIONS REACHED LIMIT.\n",
      "\n",
      "Increase the number of iterations (max_iter) or scale the data as shown in:\n",
      "    https://scikit-learn.org/stable/modules/preprocessing.html\n",
      "Please also refer to the documentation for alternative solver options:\n",
      "    https://scikit-learn.org/stable/modules/linear_model.html#logistic-regression\n",
      "  n_iter_i = _check_optimize_result(\n",
      "/Users/deepthi/opt/anaconda3/lib/python3.9/site-packages/sklearn/utils/validation.py:993: DataConversionWarning: A column-vector y was passed when a 1d array was expected. Please change the shape of y to (n_samples, ), for example using ravel().\n",
      "  y = column_or_1d(y, warn=True)\n",
      "/Users/deepthi/opt/anaconda3/lib/python3.9/site-packages/sklearn/linear_model/_logistic.py:814: ConvergenceWarning: lbfgs failed to converge (status=1):\n",
      "STOP: TOTAL NO. of ITERATIONS REACHED LIMIT.\n",
      "\n",
      "Increase the number of iterations (max_iter) or scale the data as shown in:\n",
      "    https://scikit-learn.org/stable/modules/preprocessing.html\n",
      "Please also refer to the documentation for alternative solver options:\n",
      "    https://scikit-learn.org/stable/modules/linear_model.html#logistic-regression\n",
      "  n_iter_i = _check_optimize_result(\n"
     ]
    }
   ],
   "source": [
    "from sklearn.linear_model import LogisticRegression\n",
    "from sklearn.model_selection import KFold, cross_validate\n",
    "from sklearn.metrics import accuracy_score, f1_score\n",
    "\n",
    "k = 5\n",
    "kf = KFold(n_splits=k, random_state=None)\n",
    "model_LR = LogisticRegression() \n",
    "acc_score = []\n",
    "f1_macro = []\n",
    "\n",
    "for train_index, test_index in kf.split(x):\n",
    "    x_train , x_test = x.iloc[train_index,:], x.iloc[test_index,:]\n",
    "    y_train , y_test = y.iloc[train_index,:], y.iloc[test_index,:]\n",
    "    \n",
    "    model_LR.fit(x_train, y_train)\n",
    "    y_pred = model_LR.predict(x_test)\n",
    "    \n",
    "    acc_score.append(accuracy_score(y_pred, y_test))\n",
    "    f1_macro.append(f1_score(y_test, y_pred, average='macro'))"
   ]
  },
  {
   "cell_type": "code",
   "execution_count": 98,
   "id": "49c4a64b",
   "metadata": {},
   "outputs": [
    {
     "name": "stdout",
     "output_type": "stream",
     "text": [
      "accuracy of each fold - [0.7796992481203008, 0.7691729323308271, 0.7684210526315789, 0.7578947368421053, 0.762406015037594]\n",
      "Avg accuracy : 0.7675187969924812\n",
      "\n",
      "\n",
      "f1_macro of each fold - [0.4695287710094186, 0.47034566136419953, 0.4727140731434809, 0.4624603365867373, 0.46177567412507176]\n",
      "Avg f1_macro : 0.4673649032457816\n"
     ]
    }
   ],
   "source": [
    "avg_acc_score = sum(acc_score)/k\n",
    "print('accuracy of each fold - {}'.format(acc_score))\n",
    "print('Avg accuracy : {}'.format(avg_acc_score))\n",
    "print('\\n')\n",
    "avr_f1_macro_score = sum(f1_macro)/k\n",
    "print('f1_macro of each fold - {}'.format(f1_macro))\n",
    "print('Avg f1_macro : {}'.format(avr_f1_macro_score))"
   ]
  },
  {
   "cell_type": "code",
   "execution_count": 97,
   "id": "86f2ab82",
   "metadata": {},
   "outputs": [
    {
     "data": {
      "text/html": [
       "<div>\n",
       "<style scoped>\n",
       "    .dataframe tbody tr th:only-of-type {\n",
       "        vertical-align: middle;\n",
       "    }\n",
       "\n",
       "    .dataframe tbody tr th {\n",
       "        vertical-align: top;\n",
       "    }\n",
       "\n",
       "    .dataframe thead th {\n",
       "        text-align: right;\n",
       "    }\n",
       "</style>\n",
       "<table border=\"1\" class=\"dataframe\">\n",
       "  <thead>\n",
       "    <tr style=\"text-align: right;\">\n",
       "      <th></th>\n",
       "      <th>ID</th>\n",
       "      <th>Age</th>\n",
       "      <th>Gender</th>\n",
       "      <th>Income</th>\n",
       "      <th>Balance</th>\n",
       "      <th>Vintage</th>\n",
       "      <th>Transaction_Status</th>\n",
       "      <th>Product_Holdings</th>\n",
       "      <th>Credit_Card</th>\n",
       "      <th>Credit_Category</th>\n",
       "      <th>Is_Churn</th>\n",
       "    </tr>\n",
       "  </thead>\n",
       "  <tbody>\n",
       "    <tr>\n",
       "      <th>0</th>\n",
       "      <td>55480787</td>\n",
       "      <td>50</td>\n",
       "      <td>Female</td>\n",
       "      <td>More than 15L</td>\n",
       "      <td>1008636.39</td>\n",
       "      <td>2</td>\n",
       "      <td>1</td>\n",
       "      <td>2</td>\n",
       "      <td>1</td>\n",
       "      <td>Average</td>\n",
       "      <td>0</td>\n",
       "    </tr>\n",
       "    <tr>\n",
       "      <th>1</th>\n",
       "      <td>9aededf2</td>\n",
       "      <td>36</td>\n",
       "      <td>Male</td>\n",
       "      <td>5L - 10L</td>\n",
       "      <td>341460.72</td>\n",
       "      <td>2</td>\n",
       "      <td>0</td>\n",
       "      <td>2</td>\n",
       "      <td>1</td>\n",
       "      <td>Average</td>\n",
       "      <td>0</td>\n",
       "    </tr>\n",
       "    <tr>\n",
       "      <th>2</th>\n",
       "      <td>a5034a09</td>\n",
       "      <td>25</td>\n",
       "      <td>Female</td>\n",
       "      <td>10L - 15L</td>\n",
       "      <td>439460.10</td>\n",
       "      <td>0</td>\n",
       "      <td>0</td>\n",
       "      <td>2</td>\n",
       "      <td>1</td>\n",
       "      <td>Good</td>\n",
       "      <td>0</td>\n",
       "    </tr>\n",
       "    <tr>\n",
       "      <th>3</th>\n",
       "      <td>b3256702</td>\n",
       "      <td>41</td>\n",
       "      <td>Male</td>\n",
       "      <td>Less than 5L</td>\n",
       "      <td>28581.93</td>\n",
       "      <td>0</td>\n",
       "      <td>1</td>\n",
       "      <td>2</td>\n",
       "      <td>1</td>\n",
       "      <td>Poor</td>\n",
       "      <td>0</td>\n",
       "    </tr>\n",
       "    <tr>\n",
       "      <th>4</th>\n",
       "      <td>dc28adb5</td>\n",
       "      <td>48</td>\n",
       "      <td>Male</td>\n",
       "      <td>More than 15L</td>\n",
       "      <td>1104540.03</td>\n",
       "      <td>2</td>\n",
       "      <td>1</td>\n",
       "      <td>3+</td>\n",
       "      <td>0</td>\n",
       "      <td>Good</td>\n",
       "      <td>0</td>\n",
       "    </tr>\n",
       "  </tbody>\n",
       "</table>\n",
       "</div>"
      ],
      "text/plain": [
       "         ID  Age  Gender         Income     Balance  Vintage  \\\n",
       "0  55480787   50  Female  More than 15L  1008636.39        2   \n",
       "1  9aededf2   36    Male       5L - 10L   341460.72        2   \n",
       "2  a5034a09   25  Female      10L - 15L   439460.10        0   \n",
       "3  b3256702   41    Male   Less than 5L    28581.93        0   \n",
       "4  dc28adb5   48    Male  More than 15L  1104540.03        2   \n",
       "\n",
       "   Transaction_Status Product_Holdings  Credit_Card Credit_Category  Is_Churn  \n",
       "0                   1                2            1         Average         0  \n",
       "1                   0                2            1         Average         0  \n",
       "2                   0                2            1            Good         0  \n",
       "3                   1                2            1            Poor         0  \n",
       "4                   1               3+            0            Good         0  "
      ]
     },
     "execution_count": 97,
     "metadata": {},
     "output_type": "execute_result"
    }
   ],
   "source": [
    "y_pred_unseen = model_RF.predict(data_test)\n",
    "data_unseen = pd.read_csv('test_lTY72QC.csv')\n",
    "data_unseen['Is_Churn'] = y_pred_unseen\n",
    "data_unseen.head()"
   ]
  },
  {
   "cell_type": "code",
   "execution_count": 99,
   "id": "ca35e21f",
   "metadata": {},
   "outputs": [],
   "source": [
    "Out_TestLR = data_unseen[['ID','Is_Churn']]\n",
    "Out_TestLR.to_csv('Out_TestLR.csv',index=False)"
   ]
  },
  {
   "cell_type": "code",
   "execution_count": null,
   "id": "987e34ab",
   "metadata": {},
   "outputs": [],
   "source": []
  }
 ],
 "metadata": {
  "kernelspec": {
   "display_name": "Python 3 (ipykernel)",
   "language": "python",
   "name": "python3"
  },
  "language_info": {
   "codemirror_mode": {
    "name": "ipython",
    "version": 3
   },
   "file_extension": ".py",
   "mimetype": "text/x-python",
   "name": "python",
   "nbconvert_exporter": "python",
   "pygments_lexer": "ipython3",
   "version": "3.9.7"
  }
 },
 "nbformat": 4,
 "nbformat_minor": 5
}
